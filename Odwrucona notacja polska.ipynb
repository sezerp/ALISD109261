{
 "cells": [
  {
   "cell_type": "markdown",
   "metadata": {},
   "source": [
    "## Odwrócona notacja polska (ONP, RPN)"
   ]
  },
  {
   "cell_type": "code",
   "execution_count": 1,
   "metadata": {},
   "outputs": [],
   "source": [
    "from lab3.rpn.reverse_polish_notation import ReversePolishNotation"
   ]
  },
  {
   "cell_type": "code",
   "execution_count": 2,
   "metadata": {},
   "outputs": [
    {
     "name": "stdout",
     "output_type": "stream",
     "text": [
      "Help on class ReversePolishNotation in module lab3.rpn.reverse_polish_notation:\n",
      "\n",
      "class ReversePolishNotation(builtins.object)\n",
      " |  ReversePolishNotation - class converting and explaining convert between standard math notation\n",
      " |  and reverse polish notation\n",
      " |  author:\n",
      " |      Pawel Zabczynski\n",
      " |  \n",
      " |  Methods defined here:\n",
      " |  \n",
      " |  __init__(self, expresion:str)\n",
      " |      Initialize self.  See help(type(self)) for accurate signature.\n",
      " |  \n",
      " |  calculate(self, explain=False) -> float\n",
      " |      Calculate given algebraic expresion\n",
      " |      :param explain: if set to `True` then will print step by stem explanation\n",
      " |      :return: result after calculation expresion\n",
      " |  \n",
      " |  convert(self, explain=False) -> str\n",
      " |      Convert `self.expresion` into expresion\n",
      " |      Do not support unary operations\n",
      " |      :param explain: boolean set to true to see in output explain each step\n",
      " |      Returns:\n",
      " |          :return: str\n",
      " |      Raises:\n",
      " |           ValueError: If `self.expresion` is not valid math expresion.\n",
      " |  \n",
      " |  explain(self) -> str\n",
      " |      Print all steps as values stored in que and stack\n",
      " |      Returns:\n",
      " |          :return: explanation as string\n",
      " |      Raises:\n",
      " |           ValueError: If `self.expresion` is not valid math expresion.\n",
      " |  \n",
      " |  ----------------------------------------------------------------------\n",
      " |  Data descriptors defined here:\n",
      " |  \n",
      " |  __dict__\n",
      " |      dictionary for instance variables (if defined)\n",
      " |  \n",
      " |  __weakref__\n",
      " |      list of weak references to the object (if defined)\n",
      " |  \n",
      " |  ----------------------------------------------------------------------\n",
      " |  Data and other attributes defined here:\n",
      " |  \n",
      " |  LEFT_P = {'(', '[', '{'}\n",
      " |  \n",
      " |  RIGHT_P = {')', ']', '}'}\n",
      "\n"
     ]
    }
   ],
   "source": [
    "help(ReversePolishNotation)"
   ]
  },
  {
   "cell_type": "markdown",
   "metadata": {},
   "source": [
    "### 1) Wyrażenie: 3+5-2"
   ]
  },
  {
   "cell_type": "code",
   "execution_count": 3,
   "metadata": {},
   "outputs": [
    {
     "name": "stdout",
     "output_type": "stream",
     "text": [
      "|Step  |Input            |Operation|Stack  \n",
      "-------------------------------------\n",
      "0      |, 3               |[Empty] |-      \n",
      "1      |, 3               |, +     |-      \n",
      "2      |, 3, 5            |, +     |-      \n",
      "3      |, 3, 5, +         |, -     |-      \n",
      "4      |, 3, 5, +, 2      |, -     |-      \n",
      "5      |, 3, 5, +, 2, -   |[Empty] |-      \n",
      "\n",
      "|Step  |Input      |Operation|Stack   \n",
      "--------------------------------\n",
      "0      |[Empty]     |, 3      |-      \n",
      "1      |[Empty]     |, 3, 5   |-      \n",
      "2      |, [Empty]   |, 8.0    |-      \n",
      "3      |[Empty]     |, 8.0, 2 |-      \n",
      "4      |, [Empty]   |, 6.0    |-      \n",
      "\n"
     ]
    },
    {
     "data": {
      "text/plain": [
       "6.0"
      ]
     },
     "execution_count": 3,
     "metadata": {},
     "output_type": "execute_result"
    }
   ],
   "source": [
    "ReversePolishNotation('3+5-2').calculate(explain=True)"
   ]
  },
  {
   "cell_type": "markdown",
   "metadata": {},
   "source": [
    "### 2) Wyrażenie: 3*8-6/3"
   ]
  },
  {
   "cell_type": "code",
   "execution_count": 4,
   "metadata": {},
   "outputs": [
    {
     "name": "stdout",
     "output_type": "stream",
     "text": [
      "|Step  |Input                  |Operation|Stack  \n",
      "-------------------------------------------\n",
      "0      |, 3                     |[Empty] |-      \n",
      "1      |, 3                     |, *     |-      \n",
      "2      |, 3, 8                  |, *     |-      \n",
      "3      |, 3, 8, *               |, -     |-      \n",
      "4      |, 3, 8, *, 6            |, -     |-      \n",
      "5      |, 3, 8, *, 6            |, -, /  |-      \n",
      "6      |, 3, 8, *, 6, 3         |, -, /  |-      \n",
      "7      |, 3, 8, *, 6, 3, /      |, -     |-      \n",
      "8      |, 3, 8, *, 6, 3, /, -   |[Empty] |-      \n",
      "\n",
      "|Step  |Input      |Operation|Stack       \n",
      "------------------------------------\n",
      "0      |[Empty]     |, 3          |-      \n",
      "1      |[Empty]     |, 3, 8       |-      \n",
      "2      |, [Empty]   |, 24.0       |-      \n",
      "3      |[Empty]     |, 24.0, 6    |-      \n",
      "4      |[Empty]     |, 24.0, 6, 3 |-      \n",
      "5      |, [Empty]   |, 24.0, 2.0  |-      \n",
      "6      |, [Empty]   |, 22.0       |-      \n",
      "\n"
     ]
    },
    {
     "data": {
      "text/plain": [
       "22.0"
      ]
     },
     "execution_count": 4,
     "metadata": {},
     "output_type": "execute_result"
    }
   ],
   "source": [
    "ReversePolishNotation('3 * 8 - 6 / 3').calculate(explain=True)"
   ]
  },
  {
   "cell_type": "markdown",
   "metadata": {},
   "source": [
    "### 3) Wyrażenie (3*(2+2)-9)^2"
   ]
  },
  {
   "cell_type": "code",
   "execution_count": 5,
   "metadata": {},
   "outputs": [
    {
     "name": "stdout",
     "output_type": "stream",
     "text": [
      "|Step|Input                        |Operation|Stack       \n",
      "--------------------------------------------------\n",
      "0  |[Empty]                       |, (          |-      \n",
      "1  |, 3                           |, (          |-      \n",
      "2  |, 3                           |, (, *       |-      \n",
      "3  |, 3                           |, (, *, (    |-      \n",
      "4  |, 3, 2                        |, (, *, (    |-      \n",
      "5  |, 3, 2                        |, (, *, (, + |-      \n",
      "6  |, 3, 2, 2                     |, (, *, (, + |-      \n",
      "7  |, 3, 2, 2, +                  |, (, *       |-      \n",
      "8  |, 3, 2, 2, +, *               |, (, -       |-      \n",
      "9  |, 3, 2, 2, +, *, 9            |, (, -       |-      \n",
      "10 |, 3, 2, 2, +, *, 9, -         |[Empty]      |-      \n",
      "11 |, 3, 2, 2, +, *, 9, -         |, ^          |-      \n",
      "12 |, 3, 2, 2, +, *, 9, -, 2      |, ^          |-      \n",
      "13 |, 3, 2, 2, +, *, 9, -, 2, ^   |[Empty]      |-      \n",
      "\n",
      "|Step  |Input  |Operation|Stack    \n",
      "-----------------------------\n",
      "0      |[Empty] |, 3       |-      \n",
      "1      |[Empty] |, 3, 2    |-      \n",
      "2      |[Empty] |, 3, 2, 2 |-      \n",
      "3      |, [Empty]|, 3, 4.0  |-      \n",
      "4      |, [Empty]|, 12.0    |-      \n",
      "5      |[Empty] |, 12.0, 9 |-      \n",
      "6      |, [Empty]|, 3.0     |-      \n",
      "7      |[Empty] |, 3.0, 2  |-      \n",
      "8      |, [Empty]|, 9.0     |-      \n",
      "\n"
     ]
    },
    {
     "data": {
      "text/plain": [
       "9.0"
      ]
     },
     "execution_count": 5,
     "metadata": {},
     "output_type": "execute_result"
    }
   ],
   "source": [
    "ReversePolishNotation('(3*(2+2)-9)^2').calculate(explain=True)"
   ]
  },
  {
   "cell_type": "markdown",
   "metadata": {},
   "source": [
    "### 4) Wyrażenie {[(9-7)+(2+3)]-(7-4)}*[(7-5)*3-2]"
   ]
  },
  {
   "cell_type": "code",
   "execution_count": 6,
   "metadata": {},
   "outputs": [
    {
     "name": "stdout",
     "output_type": "stream",
     "text": [
      "|Step|Input                                                      |Operation|Stack          \n",
      "-----------------------------------------------------------------------------------\n",
      "0  |[Empty]                                                     |, {             |-      \n",
      "1  |[Empty]                                                     |, {, [          |-      \n",
      "2  |[Empty]                                                     |, {, [, (       |-      \n",
      "3  |, 9                                                         |, {, [, (       |-      \n",
      "4  |, 9                                                         |, {, [, (, -    |-      \n",
      "5  |, 9, 7                                                      |, {, [, (, -    |-      \n",
      "6  |, 9, 7, -                                                   |, {, [          |-      \n",
      "7  |, 9, 7, -                                                   |, {, [, +       |-      \n",
      "8  |, 9, 7, -                                                   |, {, [, +, (    |-      \n",
      "9  |, 9, 7, -, 2                                                |, {, [, +, (    |-      \n",
      "10 |, 9, 7, -, 2                                                |, {, [, +, (, + |-      \n",
      "11 |, 9, 7, -, 2, 3                                             |, {, [, +, (, + |-      \n",
      "12 |, 9, 7, -, 2, 3, +                                          |, {, [, +       |-      \n",
      "13 |, 9, 7, -, 2, 3, +, +                                       |, {             |-      \n",
      "14 |, 9, 7, -, 2, 3, +, +                                       |, {, -          |-      \n",
      "15 |, 9, 7, -, 2, 3, +, +                                       |, {, -, (       |-      \n",
      "16 |, 9, 7, -, 2, 3, +, +, 7                                    |, {, -, (       |-      \n",
      "17 |, 9, 7, -, 2, 3, +, +, 7                                    |, {, -, (, -    |-      \n",
      "18 |, 9, 7, -, 2, 3, +, +, 7, 4                                 |, {, -, (, -    |-      \n",
      "19 |, 9, 7, -, 2, 3, +, +, 7, 4, -                              |, {, -          |-      \n",
      "20 |, 9, 7, -, 2, 3, +, +, 7, 4, -, -                           |[Empty]         |-      \n",
      "21 |, 9, 7, -, 2, 3, +, +, 7, 4, -, -                           |, *             |-      \n",
      "22 |, 9, 7, -, 2, 3, +, +, 7, 4, -, -                           |, *, [          |-      \n",
      "23 |, 9, 7, -, 2, 3, +, +, 7, 4, -, -                           |, *, [, (       |-      \n",
      "24 |, 9, 7, -, 2, 3, +, +, 7, 4, -, -, 7                        |, *, [, (       |-      \n",
      "25 |, 9, 7, -, 2, 3, +, +, 7, 4, -, -, 7                        |, *, [, (, -    |-      \n",
      "26 |, 9, 7, -, 2, 3, +, +, 7, 4, -, -, 7, 5                     |, *, [, (, -    |-      \n",
      "27 |, 9, 7, -, 2, 3, +, +, 7, 4, -, -, 7, 5, -                  |, *, [          |-      \n",
      "28 |, 9, 7, -, 2, 3, +, +, 7, 4, -, -, 7, 5, -                  |, *, [, *       |-      \n",
      "29 |, 9, 7, -, 2, 3, +, +, 7, 4, -, -, 7, 5, -, 3               |, *, [, *       |-      \n",
      "30 |, 9, 7, -, 2, 3, +, +, 7, 4, -, -, 7, 5, -, 3, *            |, *, [, -       |-      \n",
      "31 |, 9, 7, -, 2, 3, +, +, 7, 4, -, -, 7, 5, -, 3, *, 2         |, *, [, -       |-      \n",
      "32 |, 9, 7, -, 2, 3, +, +, 7, 4, -, -, 7, 5, -, 3, *, 2, -      |, *             |-      \n",
      "33 |, 9, 7, -, 2, 3, +, +, 7, 4, -, -, 7, 5, -, 3, *, 2, -, *   |[Empty]         |-      \n",
      "\n",
      "|Step|Input      |Operation|Stack        \n",
      "---------------------------------\n",
      "0  |[Empty]     |, 9           |-      \n",
      "1  |[Empty]     |, 9, 7        |-      \n",
      "2  |, [Empty]   |, 2.0         |-      \n",
      "3  |[Empty]     |, 2.0, 2      |-      \n",
      "4  |[Empty]     |, 2.0, 2, 3   |-      \n",
      "5  |, [Empty]   |, 2.0, 5.0    |-      \n",
      "6  |, [Empty]   |, 7.0         |-      \n",
      "7  |[Empty]     |, 7.0, 7      |-      \n",
      "8  |[Empty]     |, 7.0, 7, 4   |-      \n",
      "9  |, [Empty]   |, 7.0, 3.0    |-      \n",
      "10 |, [Empty]   |, 4.0         |-      \n",
      "11 |[Empty]     |, 4.0, 7      |-      \n",
      "12 |[Empty]     |, 4.0, 7, 5   |-      \n",
      "13 |, [Empty]   |, 4.0, 2.0    |-      \n",
      "14 |[Empty]     |, 4.0, 2.0, 3 |-      \n",
      "15 |, [Empty]   |, 4.0, 6.0    |-      \n",
      "16 |[Empty]     |, 4.0, 6.0, 2 |-      \n",
      "17 |, [Empty]   |, 4.0, 4.0    |-      \n",
      "18 |, [Empty]   |, 16.0        |-      \n",
      "\n"
     ]
    },
    {
     "data": {
      "text/plain": [
       "16.0"
      ]
     },
     "execution_count": 6,
     "metadata": {},
     "output_type": "execute_result"
    }
   ],
   "source": [
    "ReversePolishNotation('{[(9-7)+(2+3)]-(7-4)}*[(7-5)*3-2]').calculate(explain=True)"
   ]
  },
  {
   "cell_type": "markdown",
   "metadata": {},
   "source": [
    "### 5) Wyrażenie [(9-2)*3-(9-3)^2/(2*3)]*(6-4)"
   ]
  },
  {
   "cell_type": "code",
   "execution_count": 7,
   "metadata": {},
   "outputs": [
    {
     "name": "stdout",
     "output_type": "stream",
     "text": [
      "|Step|Input                                                      |Operation|Stack          \n",
      "-----------------------------------------------------------------------------------\n",
      "0  |[Empty]                                                     |, [             |-      \n",
      "1  |[Empty]                                                     |, [, (          |-      \n",
      "2  |, 9                                                         |, [, (          |-      \n",
      "3  |, 9                                                         |, [, (, -       |-      \n",
      "4  |, 9, 2                                                      |, [, (, -       |-      \n",
      "5  |, 9, 2, -                                                   |, [             |-      \n",
      "6  |, 9, 2, -                                                   |, [, *          |-      \n",
      "7  |, 9, 2, -, 3                                                |, [, *          |-      \n",
      "8  |, 9, 2, -, 3, *                                             |, [, -          |-      \n",
      "9  |, 9, 2, -, 3, *                                             |, [, -, (       |-      \n",
      "10 |, 9, 2, -, 3, *, 9                                          |, [, -, (       |-      \n",
      "11 |, 9, 2, -, 3, *, 9                                          |, [, -, (, -    |-      \n",
      "12 |, 9, 2, -, 3, *, 9, 3                                       |, [, -, (, -    |-      \n",
      "13 |, 9, 2, -, 3, *, 9, 3, -                                    |, [, -          |-      \n",
      "14 |, 9, 2, -, 3, *, 9, 3, -                                    |, [, -, ^       |-      \n",
      "15 |, 9, 2, -, 3, *, 9, 3, -, 2                                 |, [, -, ^       |-      \n",
      "16 |, 9, 2, -, 3, *, 9, 3, -, 2, ^                              |, [, -, /       |-      \n",
      "17 |, 9, 2, -, 3, *, 9, 3, -, 2, ^                              |, [, -, /, (    |-      \n",
      "18 |, 9, 2, -, 3, *, 9, 3, -, 2, ^, 2                           |, [, -, /, (    |-      \n",
      "19 |, 9, 2, -, 3, *, 9, 3, -, 2, ^, 2                           |, [, -, /, (, * |-      \n",
      "20 |, 9, 2, -, 3, *, 9, 3, -, 2, ^, 2, 3                        |, [, -, /, (, * |-      \n",
      "21 |, 9, 2, -, 3, *, 9, 3, -, 2, ^, 2, 3, *                     |, [, -, /       |-      \n",
      "22 |, 9, 2, -, 3, *, 9, 3, -, 2, ^, 2, 3, *, /, -               |[Empty]         |-      \n",
      "23 |, 9, 2, -, 3, *, 9, 3, -, 2, ^, 2, 3, *, /, -               |, *             |-      \n",
      "24 |, 9, 2, -, 3, *, 9, 3, -, 2, ^, 2, 3, *, /, -               |, *, (          |-      \n",
      "25 |, 9, 2, -, 3, *, 9, 3, -, 2, ^, 2, 3, *, /, -, 6            |, *, (          |-      \n",
      "26 |, 9, 2, -, 3, *, 9, 3, -, 2, ^, 2, 3, *, /, -, 6            |, *, (, -       |-      \n",
      "27 |, 9, 2, -, 3, *, 9, 3, -, 2, ^, 2, 3, *, /, -, 6, 4         |, *, (, -       |-      \n",
      "28 |, 9, 2, -, 3, *, 9, 3, -, 2, ^, 2, 3, *, /, -, 6, 4, -      |, *             |-      \n",
      "29 |, 9, 2, -, 3, *, 9, 3, -, 2, ^, 2, 3, *, /, -, 6, 4, -, *   |[Empty]         |-      \n",
      "\n",
      "|Step|Input      |Operation|Stack             \n",
      "--------------------------------------\n",
      "0  |[Empty]     |, 9                |-      \n",
      "1  |[Empty]     |, 9, 2             |-      \n",
      "2  |, [Empty]   |, 7.0              |-      \n",
      "3  |[Empty]     |, 7.0, 3           |-      \n",
      "4  |, [Empty]   |, 21.0             |-      \n",
      "5  |[Empty]     |, 21.0, 9          |-      \n",
      "6  |[Empty]     |, 21.0, 9, 3       |-      \n",
      "7  |, [Empty]   |, 21.0, 6.0        |-      \n",
      "8  |[Empty]     |, 21.0, 6.0, 2     |-      \n",
      "9  |, [Empty]   |, 21.0, 36.0       |-      \n",
      "10 |[Empty]     |, 21.0, 36.0, 2    |-      \n",
      "11 |[Empty]     |, 21.0, 36.0, 2, 3 |-      \n",
      "12 |, [Empty]   |, 21.0, 36.0, 6.0  |-      \n",
      "13 |, [Empty]   |, 21.0, 6.0        |-      \n",
      "14 |, [Empty]   |, 15.0             |-      \n",
      "15 |[Empty]     |, 15.0, 6          |-      \n",
      "16 |[Empty]     |, 15.0, 6, 4       |-      \n",
      "17 |, [Empty]   |, 15.0, 2.0        |-      \n",
      "18 |, [Empty]   |, 30.0             |-      \n",
      "\n"
     ]
    },
    {
     "data": {
      "text/plain": [
       "30.0"
      ]
     },
     "execution_count": 7,
     "metadata": {},
     "output_type": "execute_result"
    }
   ],
   "source": [
    "ReversePolishNotation('[(9-2)*3-(9-3)^2/(2*3)]*(6-4)').calculate(explain=True)"
   ]
  },
  {
   "cell_type": "markdown",
   "metadata": {},
   "source": [
    "### Inne materiały\n",
    "- [Reverse Polish Notation and The Stack - Computerphile](https://www.youtube.com/watch?v=7ha78yWRDlE)"
   ]
  }
 ],
 "metadata": {
  "kernelspec": {
   "display_name": "Python 3",
   "language": "python",
   "name": "python3"
  },
  "language_info": {
   "codemirror_mode": {
    "name": "ipython",
    "version": 3
   },
   "file_extension": ".py",
   "mimetype": "text/x-python",
   "name": "python",
   "nbconvert_exporter": "python",
   "pygments_lexer": "ipython3",
   "version": "3.8.3"
  }
 },
 "nbformat": 4,
 "nbformat_minor": 4
}
