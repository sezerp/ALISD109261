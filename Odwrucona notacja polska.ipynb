{
 "cells": [
  {
   "cell_type": "markdown",
   "metadata": {},
   "source": [
    "## Odwrócona notacja polska (ONP, RPN)"
   ]
  },
  {
   "cell_type": "code",
   "execution_count": 1,
   "metadata": {},
   "outputs": [],
   "source": [
    "from lab3.rpn.reverse_polish_notation import ReversePolishNotation"
   ]
  },
  {
   "cell_type": "code",
   "execution_count": 2,
   "metadata": {},
   "outputs": [
    {
     "name": "stdout",
     "output_type": "stream",
     "text": [
      "Help on class ReversePolishNotation in module lab3.rpn.reverse_polish_notation:\n",
      "\n",
      "class ReversePolishNotation(builtins.object)\n",
      " |  ReversePolishNotation - class converting and explaining convert between standard math notation\n",
      " |  and reverse polish notation\n",
      " |  author:\n",
      " |      Pawel Zabczynski\n",
      " |  \n",
      " |  Methods defined here:\n",
      " |  \n",
      " |  __init__(self, expresion:str)\n",
      " |      Initialize self.  See help(type(self)) for accurate signature.\n",
      " |  \n",
      " |  convert(self, explain=False) -> str\n",
      " |      Convert `self.expresion` into expresion\n",
      " |      Do not support unary operations\n",
      " |      :param explain: boolean set to true to see in output explain each step\n",
      " |      Returns:\n",
      " |          :return: str\n",
      " |      Raises:\n",
      " |           ValueError: If `self.expresion` is not valid math expresion.\n",
      " |  \n",
      " |  explain(self) -> str\n",
      " |      Print all steps as values stored in que and stack\n",
      " |      Returns:\n",
      " |          :return: explanation as string\n",
      " |      Raises:\n",
      " |           ValueError: If `self.expresion` is not valid math expresion.\n",
      " |  \n",
      " |  ----------------------------------------------------------------------\n",
      " |  Data descriptors defined here:\n",
      " |  \n",
      " |  __dict__\n",
      " |      dictionary for instance variables (if defined)\n",
      " |  \n",
      " |  __weakref__\n",
      " |      list of weak references to the object (if defined)\n",
      " |  \n",
      " |  ----------------------------------------------------------------------\n",
      " |  Data and other attributes defined here:\n",
      " |  \n",
      " |  LEFT_P = {'(', '[', '{'}\n",
      " |  \n",
      " |  RIGHT_P = {')', ']', '}'}\n",
      "\n"
     ]
    }
   ],
   "source": [
    "help(ReversePolishNotation)"
   ]
  },
  {
   "cell_type": "markdown",
   "metadata": {},
   "source": [
    "1) Wyrażenie: 3+5-2"
   ]
  },
  {
   "cell_type": "code",
   "execution_count": 3,
   "metadata": {},
   "outputs": [],
   "source": [
    "rpn = ReversePolishNotation('3+5-2')"
   ]
  },
  {
   "cell_type": "code",
   "execution_count": 4,
   "metadata": {},
   "outputs": [
    {
     "data": {
      "text/plain": [
       "'3 5 + 2 -'"
      ]
     },
     "execution_count": 4,
     "metadata": {},
     "output_type": "execute_result"
    }
   ],
   "source": [
    "rpn.convert()"
   ]
  },
  {
   "cell_type": "code",
   "execution_count": 5,
   "metadata": {},
   "outputs": [
    {
     "name": "stdout",
     "output_type": "stream",
     "text": [
      "step: 1 =>  queue: [3 ] stack: []\n",
      "step: 2 =>  queue: [3 ] stack: [\"+\", ]\n",
      "step: 3 =>  queue: [3 5 + ] stack: []\n",
      "step: 4 =>  queue: [3 5 + ] stack: [\"-\", ]\n",
      "step: 5 =>  queue: [3 5 + 2 - ] stack: []\n"
     ]
    },
    {
     "data": {
      "text/plain": [
       "'3 5 + 2 -'"
      ]
     },
     "execution_count": 5,
     "metadata": {},
     "output_type": "execute_result"
    }
   ],
   "source": [
    "rpn.explain()"
   ]
  },
  {
   "cell_type": "code",
   "execution_count": 6,
   "metadata": {},
   "outputs": [
    {
     "name": "stdout",
     "output_type": "stream",
     "text": [
      "step: 1 =>  queue: [3 ] stack: []\n",
      "step: 2 =>  queue: [3 ] stack: [\"*\", ]\n",
      "step: 3 =>  queue: [3 8 * ] stack: []\n",
      "step: 4 =>  queue: [3 8 * ] stack: [\"-\", ]\n",
      "step: 5 =>  queue: [3 8 * 6 - ] stack: []\n",
      "step: 6 =>  queue: [3 8 * 6 - ] stack: [\"/\", ]\n",
      "step: 7 =>  queue: [3 8 * 6 - 3 / ] stack: []\n"
     ]
    },
    {
     "data": {
      "text/plain": [
       "'3 8 * 6 - 3 /'"
      ]
     },
     "execution_count": 6,
     "metadata": {},
     "output_type": "execute_result"
    }
   ],
   "source": [
    "ReversePolishNotation('3*8-6/3').explain()"
   ]
  },
  {
   "cell_type": "code",
   "execution_count": 7,
   "metadata": {},
   "outputs": [
    {
     "name": "stdout",
     "output_type": "stream",
     "text": [
      "step: 1 =>  queue: [] stack: [\"(\", ]\n",
      "step: 2 =>  queue: [3 ] stack: [\"(\", ]\n",
      "step: 3 =>  queue: [3 ] stack: [\"(\", \"*\", ]\n",
      "step: 4 =>  queue: [3 ] stack: [\"(\", \"*\", \"(\", ]\n",
      "step: 5 =>  queue: [3 2 ] stack: [\"(\", \"*\", \"(\", ]\n",
      "step: 6 =>  queue: [3 2 ] stack: [\"(\", \"*\", \"(\", \"+\", ]\n",
      "step: 7 =>  queue: [3 2 2 + ] stack: [\"(\", \"*\", \"(\", ]\n",
      "step: 8 =>  queue: [3 2 2 + ] stack: [\"(\", \"*\", ]\n",
      "step: 9 =>  queue: [3 2 2 + * ] stack: [\"(\", \"-\", ]\n",
      "step: 10 =>  queue: [3 2 2 + * 9 - ] stack: [\"(\", ]\n",
      "step: 11 =>  queue: [3 2 2 + * 9 - ] stack: []\n",
      "step: 12 =>  queue: [3 2 2 + * 9 - ] stack: [\"^\", ]\n",
      "step: 13 =>  queue: [3 2 2 + * 9 - 2 ^ ] stack: []\n"
     ]
    },
    {
     "data": {
      "text/plain": [
       "'3 2 2 + * 9 - 2 ^'"
      ]
     },
     "execution_count": 7,
     "metadata": {},
     "output_type": "execute_result"
    }
   ],
   "source": [
    "ReversePolishNotation('(3*(2+2)-9)^2').explain()"
   ]
  },
  {
   "cell_type": "code",
   "execution_count": 8,
   "metadata": {},
   "outputs": [
    {
     "name": "stdout",
     "output_type": "stream",
     "text": [
      "step: 1 =>  queue: [] stack: [\"{\", ]\n",
      "step: 2 =>  queue: [] stack: [\"{\", \"[\", ]\n",
      "step: 3 =>  queue: [] stack: [\"{\", \"[\", \"(\", ]\n",
      "step: 4 =>  queue: [9 ] stack: [\"{\", \"[\", \"(\", ]\n",
      "step: 5 =>  queue: [9 ] stack: [\"{\", \"[\", \"(\", \"-\", ]\n",
      "step: 6 =>  queue: [9 7 - ] stack: [\"{\", \"[\", \"(\", ]\n",
      "step: 7 =>  queue: [9 7 - ] stack: [\"{\", \"[\", ]\n",
      "step: 8 =>  queue: [9 7 - ] stack: [\"{\", \"[\", \"+\", ]\n",
      "step: 9 =>  queue: [9 7 - ] stack: [\"{\", \"[\", \"+\", \"(\", ]\n",
      "step: 10 =>  queue: [9 7 - 2 ] stack: [\"{\", \"[\", \"+\", \"(\", ]\n",
      "step: 11 =>  queue: [9 7 - 2 ] stack: [\"{\", \"[\", \"+\", \"(\", \"+\", ]\n",
      "step: 12 =>  queue: [9 7 - 2 3 + ] stack: [\"{\", \"[\", \"+\", \"(\", ]\n",
      "step: 13 =>  queue: [9 7 - 2 3 + ] stack: [\"{\", \"[\", \"+\", ]\n",
      "step: 14 =>  queue: [9 7 - 2 3 + + ] stack: [\"{\", ]\n",
      "step: 15 =>  queue: [9 7 - 2 3 + + ] stack: [\"{\", \"-\", ]\n",
      "step: 16 =>  queue: [9 7 - 2 3 + + ] stack: [\"{\", \"-\", \"(\", ]\n",
      "step: 17 =>  queue: [9 7 - 2 3 + + 7 ] stack: [\"{\", \"-\", \"(\", ]\n",
      "step: 18 =>  queue: [9 7 - 2 3 + + 7 ] stack: [\"{\", \"-\", \"(\", \"-\", ]\n",
      "step: 19 =>  queue: [9 7 - 2 3 + + 7 4 - ] stack: [\"{\", \"-\", \"(\", ]\n",
      "step: 20 =>  queue: [9 7 - 2 3 + + 7 4 - ] stack: [\"{\", \"-\", ]\n",
      "step: 21 =>  queue: [9 7 - 2 3 + + 7 4 - - ] stack: []\n",
      "step: 22 =>  queue: [9 7 - 2 3 + + 7 4 - - ] stack: [\"*\", ]\n",
      "step: 23 =>  queue: [9 7 - 2 3 + + 7 4 - - ] stack: [\"*\", \"[\", ]\n",
      "step: 24 =>  queue: [9 7 - 2 3 + + 7 4 - - ] stack: [\"*\", \"[\", \"(\", ]\n",
      "step: 25 =>  queue: [9 7 - 2 3 + + 7 4 - - 7 ] stack: [\"*\", \"[\", \"(\", ]\n",
      "step: 26 =>  queue: [9 7 - 2 3 + + 7 4 - - 7 ] stack: [\"*\", \"[\", \"(\", \"-\", ]\n",
      "step: 27 =>  queue: [9 7 - 2 3 + + 7 4 - - 7 5 - ] stack: [\"*\", \"[\", \"(\", ]\n",
      "step: 28 =>  queue: [9 7 - 2 3 + + 7 4 - - 7 5 - ] stack: [\"*\", \"[\", ]\n",
      "step: 29 =>  queue: [9 7 - 2 3 + + 7 4 - - 7 5 - ] stack: [\"*\", \"[\", \"*\", ]\n",
      "step: 30 =>  queue: [9 7 - 2 3 + + 7 4 - - 7 5 - 3 * ] stack: [\"*\", \"[\", ]\n",
      "step: 31 =>  queue: [9 7 - 2 3 + + 7 4 - - 7 5 - 3 * ] stack: [\"*\", \"[\", \"-\", ]\n",
      "step: 32 =>  queue: [9 7 - 2 3 + + 7 4 - - 7 5 - 3 * 2 - ] stack: [\"*\", \"[\", ]\n",
      "step: 33 =>  queue: [9 7 - 2 3 + + 7 4 - - 7 5 - 3 * 2 - ] stack: [\"*\", ]\n",
      "step: 34 =>  queue: [9 7 - 2 3 + + 7 4 - - 7 5 - 3 * 2 - * ] stack: [\"*\", ]\n"
     ]
    },
    {
     "data": {
      "text/plain": [
       "'9 7 - 2 3 + + 7 4 - - 7 5 - 3 * 2 - *'"
      ]
     },
     "execution_count": 8,
     "metadata": {},
     "output_type": "execute_result"
    }
   ],
   "source": [
    "ReversePolishNotation('{[(9-7)+(2+3)]-(7-4)}*[(7-5)*3-2]').explain()"
   ]
  },
  {
   "cell_type": "code",
   "execution_count": 10,
   "metadata": {},
   "outputs": [
    {
     "name": "stdout",
     "output_type": "stream",
     "text": [
      "step: 1 =>  queue: [] stack: [\"[\", ]\n",
      "step: 2 =>  queue: [] stack: [\"[\", \"(\", ]\n",
      "step: 3 =>  queue: [9 ] stack: [\"[\", \"(\", ]\n",
      "step: 4 =>  queue: [9 ] stack: [\"[\", \"(\", \"-\", ]\n",
      "step: 5 =>  queue: [9 2 - ] stack: [\"[\", \"(\", ]\n",
      "step: 6 =>  queue: [9 2 - ] stack: [\"[\", ]\n",
      "step: 7 =>  queue: [9 2 - ] stack: [\"[\", \"*\", ]\n",
      "step: 8 =>  queue: [9 2 - 3 * ] stack: [\"[\", ]\n",
      "step: 9 =>  queue: [9 2 - 3 * ] stack: [\"[\", \"-\", ]\n",
      "step: 10 =>  queue: [9 2 - 3 * ] stack: [\"[\", \"-\", \"(\", ]\n",
      "step: 11 =>  queue: [9 2 - 3 * 9 ] stack: [\"[\", \"-\", \"(\", ]\n",
      "step: 12 =>  queue: [9 2 - 3 * 9 ] stack: [\"[\", \"-\", \"(\", \"-\", ]\n",
      "step: 13 =>  queue: [9 2 - 3 * 9 3 - ] stack: [\"[\", \"-\", \"(\", ]\n",
      "step: 14 =>  queue: [9 2 - 3 * 9 3 - ] stack: [\"[\", \"-\", ]\n",
      "step: 15 =>  queue: [9 2 - 3 * 9 3 - ] stack: [\"[\", \"-\", \"^\", ]\n",
      "step: 16 =>  queue: [9 2 - 3 * 9 3 - 2 ^ ] stack: [\"[\", \"-\", ]\n",
      "step: 17 =>  queue: [9 2 - 3 * 9 3 - 2 ^ ] stack: [\"[\", \"-\", \"/\", ]\n",
      "step: 18 =>  queue: [9 2 - 3 * 9 3 - 2 ^ ] stack: [\"[\", \"-\", \"/\", \"(\", ]\n",
      "step: 19 =>  queue: [9 2 - 3 * 9 3 - 2 ^ 2 ] stack: [\"[\", \"-\", \"/\", \"(\", ]\n",
      "step: 20 =>  queue: [9 2 - 3 * 9 3 - 2 ^ 2 ] stack: [\"[\", \"-\", \"/\", \"(\", \"*\", ]\n",
      "step: 21 =>  queue: [9 2 - 3 * 9 3 - 2 ^ 2 3 * ] stack: [\"[\", \"-\", \"/\", \"(\", ]\n",
      "step: 22 =>  queue: [9 2 - 3 * 9 3 - 2 ^ 2 3 * ] stack: [\"[\", \"-\", \"/\", ]\n",
      "step: 23 =>  queue: [9 2 - 3 * 9 3 - 2 ^ 2 3 * / ] stack: [\"[\", ]\n",
      "step: 24 =>  queue: [9 2 - 3 * 9 3 - 2 ^ 2 3 * / ] stack: [\"[\", \"*\", ]\n",
      "step: 25 =>  queue: [9 2 - 3 * 9 3 - 2 ^ 2 3 * / ] stack: [\"[\", \"*\", \"(\", ]\n",
      "step: 26 =>  queue: [9 2 - 3 * 9 3 - 2 ^ 2 3 * / 6 ] stack: [\"[\", \"*\", \"(\", ]\n",
      "step: 27 =>  queue: [9 2 - 3 * 9 3 - 2 ^ 2 3 * / 6 ] stack: [\"[\", \"*\", \"(\", \"-\", ]\n",
      "step: 28 =>  queue: [9 2 - 3 * 9 3 - 2 ^ 2 3 * / 6 4 - ] stack: [\"[\", \"*\", \"(\", ]\n",
      "step: 29 =>  queue: [9 2 - 3 * 9 3 - 2 ^ 2 3 * / 6 4 - ] stack: [\"[\", \"*\", ]\n",
      "step: 30 =>  queue: [9 2 - 3 * 9 3 - 2 ^ 2 3 * / 6 4 - * ] stack: [\"[\", \"*\", ]\n"
     ]
    },
    {
     "data": {
      "text/plain": [
       "'9 2 - 3 * 9 3 - 2 ^ 2 3 * / 6 4 - *'"
      ]
     },
     "execution_count": 10,
     "metadata": {},
     "output_type": "execute_result"
    }
   ],
   "source": [
    "ReversePolishNotation('[(9-2)*3-(9-3)^2/(2*3)]*(6-4)').explain()"
   ]
  },
  {
   "cell_type": "code",
   "execution_count": 34,
   "metadata": {},
   "outputs": [
    {
     "name": "stdout",
     "output_type": "stream",
     "text": [
      "4\n",
      "2\n"
     ]
    },
    {
     "data": {
      "text/plain": [
       "'2 3 - 3 * 2 6 + 3 ^ 2 / -'"
      ]
     },
     "execution_count": 34,
     "metadata": {},
     "output_type": "execute_result"
    }
   ],
   "source": [
    "operand_add = lambda a, b: a / b\n",
    "operands = [4, 2]\n",
    "result = 1\n",
    "for o in operands:\n",
    "    print(o)\n",
    "    result = operand_add(o, result)\n",
    "\n",
    "result\n",
    "ReversePolishNotation('[(2 - 3) * 3 - (2 + 6) ^ 3 / 2]').convert()"
   ]
  },
  {
   "cell_type": "markdown",
   "metadata": {},
   "source": [
    "### Inne materiały\n",
    "- [Reverse Polish Notation and The Stack - Computerphile](https://www.youtube.com/watch?v=7ha78yWRDlE)"
   ]
  }
 ],
 "metadata": {
  "kernelspec": {
   "display_name": "Python 3",
   "language": "python",
   "name": "python3"
  },
  "language_info": {
   "codemirror_mode": {
    "name": "ipython",
    "version": 3
   },
   "file_extension": ".py",
   "mimetype": "text/x-python",
   "name": "python",
   "nbconvert_exporter": "python",
   "pygments_lexer": "ipython3",
   "version": "3.6.9"
  }
 },
 "nbformat": 4,
 "nbformat_minor": 4
}
