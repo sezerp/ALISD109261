{
 "cells": [
  {
   "cell_type": "markdown",
   "metadata": {},
   "source": [
    "## Cykl Eulera"
   ]
  },
  {
   "cell_type": "markdown",
   "metadata": {},
   "source": [
    "<b>Cykl Eulera</b> - to taki cykl w grafie, który zawiera każdą krawędz,\n",
    "grafu dokładnie jeden raz"
   ]
  },
  {
   "cell_type": "markdown",
   "metadata": {},
   "source": [
    "<b>Tw.1</b>\n",
    "Graf nieskierowany spójny $G$ jest eulerowski wtedy i tylko wtedy, gdy stopień każdego wierzchołka jest parzysty."
   ]
  },
  {
   "cell_type": "markdown",
   "metadata": {},
   "source": [
    "<b>Tw.2</b>\n",
    "Niech $G$ będzie nieskierowanym grafem Eulerowskim. Wtedy następująca konstrukcja jest wykonalna i daje w wyniku <i>Cykl Eulera</i> w grafie $G$. Zacznij cykl w dowolnym wierzchołku $u$, a następnie przechodź krawędzie w dowolnej kolejności, dbając o zachowanie następujacych zasad:\n",
    "\n",
    "- usówaj z grafu przechodzone krawędzie i wierzchołkiizolowane w wyniku usówania tych krawędzi\n",
    "- w kazdym momęcie przechodź przez krawędź tylko gdy nie masz innej mozliwości"
   ]
  },
  {
   "cell_type": "markdown",
   "metadata": {},
   "source": [
    "<b>Tw.3</b> \n",
    "Graf skierowany spójny zawiera <i>Cykl Eulera</i> wtedy i tylko wtedy, gdy dla każdego wierzchołka $v$ zachodzi $d^-(v) = d^+(v)$\n",
    "\n",
    "gdzie: \n",
    "\n",
    "$d^-(v)$ - krawędzie wychodzące\n",
    "\n",
    "$d^+(v)$ -  krawędzie wchodzące"
   ]
  },
  {
   "cell_type": "raw",
   "metadata": {},
   "source": [
    "function finfd_euler_cycle(graph):\n",
    "    s = stack()\n",
    "    result = list()\n",
    "    root = graph.get_random_node()\n",
    "    s.push(root)\n",
    "    while s is not empty:\n",
    "        for n in node.neighbours:\n",
    "            node.remove_edge_to(n)\n",
    "            s.push(n)\n",
    "        result.add(node)\n",
    "        node = s.pop_back()\n",
    "    // wzięcie wierzchołka startowego \n",
    "    node = result[0]\n",
    "    // dodanie wierzchołka startowego na koniec listy\n",
    "    result.add(node)"
   ]
  }
 ],
 "metadata": {
  "kernelspec": {
   "display_name": "Python 3",
   "language": "python",
   "name": "python3"
  },
  "language_info": {
   "codemirror_mode": {
    "name": "ipython",
    "version": 3
   },
   "file_extension": ".py",
   "mimetype": "text/x-python",
   "name": "python",
   "nbconvert_exporter": "python",
   "pygments_lexer": "ipython3",
   "version": "3.6.9"
  },
  "widgets": {
   "application/vnd.jupyter.widget-state+json": {
    "state": {},
    "version_major": 2,
    "version_minor": 0
   }
  }
 },
 "nbformat": 4,
 "nbformat_minor": 4
}
