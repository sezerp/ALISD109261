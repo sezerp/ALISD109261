{
 "cells": [
  {
   "cell_type": "code",
   "execution_count": 1,
   "metadata": {},
   "outputs": [],
   "source": [
    "import ipycytoscape\n",
    "import ntpath\n",
    "import json"
   ]
  },
  {
   "cell_type": "markdown",
   "metadata": {},
   "source": [
    "# Maksymalne drzewa rozpinajace"
   ]
  },
  {
   "cell_type": "markdown",
   "metadata": {},
   "source": [
    "<b>Minimalne drzewo rozpinające</b> dla grafu spójnego $G = (V, E)$ każde drzewo $T = (V, E')$ takie, że $E' \\subset E$"
   ]
  },
  {
   "cell_type": "code",
   "execution_count": 2,
   "metadata": {},
   "outputs": [],
   "source": [
    "style = [{\n",
    "    'selector': 'node',\n",
    "    'wheelSensitivity': 0.01,\n",
    "    'css': {\n",
    "        'content': 'data(id)',\n",
    "        'text-valign': 'center',\n",
    "        'color': 'white',\n",
    "        'text-outline-width': 2,\n",
    "        'text-outline-color': 'green',\n",
    "        'background-color': 'green'\n",
    "    }\n",
    "    },\n",
    "    {\n",
    "      \"selector\": \"edge[highlighted]\",\n",
    "      \"style\": {\n",
    "        \"label\": \"data(label)\",\n",
    "        'line-color': 'red',\n",
    "      }\n",
    "    },\n",
    "    {\n",
    "    'selector': ':selected',\n",
    "    'css': {\n",
    "        'background-color': 'black',\n",
    "        'line-color': 'black',\n",
    "        'target-arrow-color': 'black',\n",
    "        'source-arrow-color': 'black',\n",
    "        'text-outline-color': 'black'\n",
    "    }},{\n",
    "      'selector': 'edge',\n",
    "      'style': {\n",
    "         'label': 'data(label)',\n",
    "           'line-color': 'data(highlighted)',\n",
    "            'curve-style': 'bezier',\n",
    "          'width': 5\n",
    "      }\n",
    "    }\n",
    "]\n",
    "\n",
    "def load_graph(source_file: str):\n",
    "    with open(source_file) as f:\n",
    "        json_file = json.load(f)\n",
    "    return json_file"
   ]
  },
  {
   "cell_type": "code",
   "execution_count": 3,
   "metadata": {},
   "outputs": [
    {
     "data": {
      "application/vnd.jupyter.widget-view+json": {
       "model_id": "2ab81d3ef5724aee9f1be58fe8cdfce9",
       "version_major": 2,
       "version_minor": 0
      },
      "text/plain": [
       "CytoscapeWidget(cytoscape_layout={'name': 'dagre', 'nodeSpacing': 10, 'edgeLengthVal': 10}, cytoscape_style=[{…"
      ]
     },
     "metadata": {},
     "output_type": "display_data"
    }
   ],
   "source": [
    "g1_data = load_graph('lab4/data/graph_1.json')\n",
    "g_1 = ipycytoscape.CytoscapeWidget()\n",
    "g_1.graph.add_graph_from_json(g1_data)\n",
    "g_1.set_layout(name='dagre', nodeSpacing=10, edgeLengthVal=10)\n",
    "g_1.set_style(style)\n",
    "g_1"
   ]
  },
  {
   "cell_type": "markdown",
   "metadata": {},
   "source": [
    "<img src=\"lab4/images/graph_1_spanning_tree.png\" align=\"center\">"
   ]
  },
  {
   "cell_type": "markdown",
   "metadata": {},
   "source": [
    "### Graf 2 drzewo rozpinające"
   ]
  },
  {
   "cell_type": "code",
   "execution_count": 4,
   "metadata": {},
   "outputs": [
    {
     "data": {
      "application/vnd.jupyter.widget-view+json": {
       "model_id": "b47744440cf941a7975cda9ba2e9c17a",
       "version_major": 2,
       "version_minor": 0
      },
      "text/plain": [
       "CytoscapeWidget(cytoscape_layout={'name': 'dagre', 'nodeSpacing': 10, 'edgeLengthVal': 10}, cytoscape_style=[{…"
      ]
     },
     "metadata": {},
     "output_type": "display_data"
    }
   ],
   "source": [
    "g2_data = load_graph('lab4/data/graph_2.json')\n",
    "g_2 = ipycytoscape.CytoscapeWidget()\n",
    "g_2.graph.add_graph_from_json(g2_data)\n",
    "g_2.set_layout(name='dagre', nodeSpacing=10, edgeLengthVal=10)\n",
    "g_2.set_style(style)\n",
    "g_2"
   ]
  },
  {
   "cell_type": "markdown",
   "metadata": {},
   "source": [
    "<img src=\"lab4/images/graph_2_spanning_tree.png\" align=\"center\">"
   ]
  },
  {
   "cell_type": "markdown",
   "metadata": {},
   "source": [
    "### Graf 3 drzewo rozpinające"
   ]
  },
  {
   "cell_type": "code",
   "execution_count": 5,
   "metadata": {},
   "outputs": [],
   "source": [
    "g3_data = load_graph('lab4/data/graph_3.json')\n",
    "g_3 = ipycytoscape.CytoscapeWidget()\n",
    "g_3.graph.add_graph_from_json(g3_data)\n",
    "g_3.set_layout(name='dagre', nodeSpacing=10, edgeLengthVal=10)\n",
    "g_3.set_style(style)"
   ]
  },
  {
   "cell_type": "code",
   "execution_count": 6,
   "metadata": {},
   "outputs": [
    {
     "data": {
      "application/vnd.jupyter.widget-view+json": {
       "model_id": "8dda150de8ff4dea9a541ad886214cb0",
       "version_major": 2,
       "version_minor": 0
      },
      "text/plain": [
       "CytoscapeWidget(cytoscape_layout={'name': 'dagre', 'nodeSpacing': 10, 'edgeLengthVal': 10}, cytoscape_style=[{…"
      ]
     },
     "metadata": {},
     "output_type": "display_data"
    }
   ],
   "source": [
    "g_3"
   ]
  },
  {
   "cell_type": "markdown",
   "metadata": {},
   "source": [
    "<img src=\"lab4/images/graph_3_spanning_tree.png\" align=\"center\">"
   ]
  },
  {
   "cell_type": "markdown",
   "metadata": {},
   "source": [
    "### Graf 4 sortowanie topologiczne"
   ]
  },
  {
   "cell_type": "code",
   "execution_count": 7,
   "metadata": {},
   "outputs": [],
   "source": [
    "style_direct_graph = [{\n",
    "                        'selector': 'node',\n",
    "                        'wheelSensitivity': 0.01,\n",
    "                        'css': {\n",
    "                            'content': 'data(id)',\n",
    "                            'text-valign': 'center',\n",
    "                            'color': 'white',\n",
    "                            'text-outline-width': 2,\n",
    "                            'text-outline-color': 'green',\n",
    "                            'background-color': 'green'\n",
    "                        }},\n",
    "                        {\n",
    "                        'selector': ':selected',\n",
    "                        'css': {\n",
    "                            'background-color': 'black',\n",
    "                            'line-color': 'black',\n",
    "                            'target-arrow-color': 'black',\n",
    "                            'source-arrow-color': 'black',\n",
    "                            'text-outline-color': 'black'\n",
    "                        }},{\n",
    "                          'selector': 'edge',\n",
    "                          'style': {\n",
    "                              'label': 'data(label)',\n",
    "                               'line-color': '#9dbaea',\n",
    "                                'target-arrow-shape': 'triangle',\n",
    "                                'target-arrow-color': '#9dbaea',\n",
    "                                'curve-style': 'bezier'\n",
    "                          }\n",
    "                        }\n",
    "                        ]"
   ]
  },
  {
   "cell_type": "code",
   "execution_count": 12,
   "metadata": {},
   "outputs": [],
   "source": [
    "g4_data = load_graph('lab4/data/graph_4.json')\n",
    "g_4 = ipycytoscape.CytoscapeWidget()\n",
    "g_4.graph.add_graph_from_json(g4_data)\n",
    "g_4.set_layout(name='dagre', nodeSpacing=10, edgeLengthVal=10)\n",
    "g_4.set_style(style_direct_graph)"
   ]
  },
  {
   "cell_type": "code",
   "execution_count": 13,
   "metadata": {},
   "outputs": [
    {
     "data": {
      "application/vnd.jupyter.widget-view+json": {
       "model_id": "267d3324924a4fa59709e432e135550b",
       "version_major": 2,
       "version_minor": 0
      },
      "text/plain": [
       "CytoscapeWidget(cytoscape_layout={'name': 'dagre', 'nodeSpacing': 10, 'edgeLengthVal': 10}, cytoscape_style=[{…"
      ]
     },
     "metadata": {},
     "output_type": "display_data"
    }
   ],
   "source": [
    "g_4"
   ]
  },
  {
   "cell_type": "markdown",
   "metadata": {},
   "source": [
    "<img src=\"lab4/images/graph_4_topological_ordering.png\" align=\"center\">"
   ]
  },
  {
   "cell_type": "markdown",
   "metadata": {},
   "source": [
    "Wierzchołki posortowanie topologicznie: $a -> b -> e -> g -> f -> d-> c$"
   ]
  }
 ],
 "metadata": {
  "kernelspec": {
   "display_name": "Python 3",
   "language": "python",
   "name": "python3"
  },
  "language_info": {
   "codemirror_mode": {
    "name": "ipython",
    "version": 3
   },
   "file_extension": ".py",
   "mimetype": "text/x-python",
   "name": "python",
   "nbconvert_exporter": "python",
   "pygments_lexer": "ipython3",
   "version": "3.6.9"
  },
  "widgets": {
   "application/vnd.jupyter.widget-state+json": {
    "state": {
     "027005b741eb409c9852fa3d49e18428": {
      "model_module": "jupyter-cytoscape",
      "model_module_version": "^0.2.2",
      "model_name": "EdgeModel",
      "state": {
       "_model_module_version": "^0.2.2",
       "_view_module": "jupyter-cytoscape",
       "_view_module_version": "^0.2.2",
       "data": {
        "id": "be200123-8c0b-411a-b950-0ffd293d47dc",
        "source": "a",
        "target": "c"
       }
      }
     },
     "04775efa052b4bd5bc9ccf3b0efae1f7": {
      "model_module": "jupyter-cytoscape",
      "model_module_version": "^0.2.2",
      "model_name": "EdgeModel",
      "state": {
       "_model_module_version": "^0.2.2",
       "_view_module": "jupyter-cytoscape",
       "_view_module_version": "^0.2.2",
       "data": {
        "highlighted": "#9dbaea",
        "id": "50cd1ad9-2e85-483b-9444-a13db1e975ce",
        "label": "4",
        "source": "e",
        "target": "f"
       }
      }
     },
     "0717dfb0139846819df22c1792b2612d": {
      "model_module": "jupyter-cytoscape",
      "model_module_version": "^0.2.2",
      "model_name": "NodeModel",
      "state": {
       "_model_module_version": "^0.2.2",
       "_view_module_version": "^0.2.2",
       "data": {
        "id": "e"
       }
      }
     },
     "083b608ccb6f40df8cbf4bddb70eac83": {
      "model_module": "jupyter-cytoscape",
      "model_module_version": "^0.2.2",
      "model_name": "EdgeModel",
      "state": {
       "_model_module_version": "^0.2.2",
       "_view_module": "jupyter-cytoscape",
       "_view_module_version": "^0.2.2",
       "data": {
        "highlighted": "#9dbaea",
        "id": "2c2dad89-d7a1-4609-9d0a-d06bbc7b94c4",
        "label": "3",
        "source": "b",
        "target": "c"
       }
      }
     },
     "08ab298b18be4ce3b67d88a82beaf308": {
      "model_module": "jupyter-cytoscape",
      "model_module_version": "^0.2.2",
      "model_name": "EdgeModel",
      "state": {
       "_model_module_version": "^0.2.2",
       "_view_module": "jupyter-cytoscape",
       "_view_module_version": "^0.2.2",
       "data": {
        "highlighted": "#9dbaea",
        "id": "b898616a-a21a-4169-a230-ba0d9857c5dd",
        "label": "4",
        "source": "h",
        "target": "i"
       }
      }
     },
     "0a45f2474b3140d0982d32958b8f621a": {
      "model_module": "jupyter-cytoscape",
      "model_module_version": "^0.2.2",
      "model_name": "NodeModel",
      "state": {
       "_model_module_version": "^0.2.2",
       "_view_module_version": "^0.2.2",
       "data": {
        "id": "b"
       }
      }
     },
     "0e4d3f96548d42efb4405aeb034abaf9": {
      "model_module": "jupyter-cytoscape",
      "model_module_version": "^0.2.2",
      "model_name": "NodeModel",
      "state": {
       "_model_module_version": "^0.2.2",
       "_view_module_version": "^0.2.2",
       "data": {
        "id": "e"
       }
      }
     },
     "1253cb25f01a45ca978568201ec8c907": {
      "model_module": "jupyter-cytoscape",
      "model_module_version": "^0.2.2",
      "model_name": "GraphModel",
      "state": {
       "_model_module_version": "^0.2.2",
       "_view_module": "jupyter-cytoscape",
       "_view_module_version": "^0.2.2",
       "edges": [
        "IPY_MODEL_b0ceb2ff91df4105b14ec8f7d5b792bf",
        "IPY_MODEL_efb00db354e24b4eac753000221bb5cb",
        "IPY_MODEL_f14f88910d11469e884e6f46d41627c5",
        "IPY_MODEL_1ba70863ee1b49708a6ebff4d869e961",
        "IPY_MODEL_669793ec295b496996daa4d8c1060dff",
        "IPY_MODEL_083b608ccb6f40df8cbf4bddb70eac83",
        "IPY_MODEL_8261efb9e71c44088ee4188bedbecf6d",
        "IPY_MODEL_d6a0f182ea104469bd1dc49410a5d6bf",
        "IPY_MODEL_04775efa052b4bd5bc9ccf3b0efae1f7",
        "IPY_MODEL_c79b1b2e609b43248c124fa9dde77eac"
       ],
       "nodes": [
        "IPY_MODEL_7b77ddc3ec15427ea9711da58367089e",
        "IPY_MODEL_f4fca577bfb64762aa259d8afd09b52d",
        "IPY_MODEL_2ad29b9aea3d43f3a5cb504c9cf89b29",
        "IPY_MODEL_fb600a3f2300431a9e0d09fd1f4a7311",
        "IPY_MODEL_295b596e03f34569bcfdf9ed6ff63292",
        "IPY_MODEL_41f12b264dc64d1d998c1536f9314dc1",
        "IPY_MODEL_2eef74ec96004020b7a25306321e1bd0"
       ]
      }
     },
     "1a040577bcae456a9721a32dc78d7b86": {
      "model_module": "jupyter-cytoscape",
      "model_module_version": "^0.2.2",
      "model_name": "GraphModel",
      "state": {
       "_model_module_version": "^0.2.2",
       "_view_module": "jupyter-cytoscape",
       "_view_module_version": "^0.2.2",
       "edges": [
        "IPY_MODEL_c2291632c3d64eccaa952eff2fe502cc",
        "IPY_MODEL_027005b741eb409c9852fa3d49e18428",
        "IPY_MODEL_628454730d3c479bba1a35955e8ef946",
        "IPY_MODEL_e7061c58c79547ce894e04b1875ae9b9",
        "IPY_MODEL_a5747e843e1e4d818b3088b0095e26d3",
        "IPY_MODEL_3ac581b3b32e47f1a7c29b6d8dc10972",
        "IPY_MODEL_4cd06357342c4cc3bb194d7c25e3b119",
        "IPY_MODEL_d961a17ab44d4b14b19a404bf809b344",
        "IPY_MODEL_84c099baa41b468ab0f0237ec0edf701",
        "IPY_MODEL_c96ade0c773d4ab4a8f9c721ea4d7700"
       ],
       "nodes": [
        "IPY_MODEL_a59bfc0b9603460eb9b6949bd8728e57",
        "IPY_MODEL_0a45f2474b3140d0982d32958b8f621a",
        "IPY_MODEL_23fe899237ee42afae4b97e89bb7def8",
        "IPY_MODEL_c07e1f5722e848c682a4ddb16e9860d4",
        "IPY_MODEL_2e0687c3381b49edb689a1b86d2583a8",
        "IPY_MODEL_4e3661cba12d454fa2431a05ad45a669",
        "IPY_MODEL_bca8fc076cd843a0bcf236620bd1932c"
       ]
      }
     },
     "1ba70863ee1b49708a6ebff4d869e961": {
      "model_module": "jupyter-cytoscape",
      "model_module_version": "^0.2.2",
      "model_name": "EdgeModel",
      "state": {
       "_model_module_version": "^0.2.2",
       "_view_module": "jupyter-cytoscape",
       "_view_module_version": "^0.2.2",
       "data": {
        "highlighted": "#f0ba18",
        "id": "e6aa92aa-aff5-4ec1-9e22-ae9857f3fd53",
        "label": "8",
        "source": "a",
        "target": "e"
       }
      }
     },
     "1c9c56e578c8464ba38a3e745511b9b9": {
      "model_module": "jupyter-cytoscape",
      "model_module_version": "^0.2.2",
      "model_name": "NodeModel",
      "state": {
       "_model_module_version": "^0.2.2",
       "_view_module_version": "^0.2.2",
       "data": {
        "id": "a"
       }
      }
     },
     "22ac8e0e2ef24a4886145ac518e990e7": {
      "model_module": "jupyter-cytoscape",
      "model_module_version": "^0.2.2",
      "model_name": "GraphModel",
      "state": {
       "_model_module_version": "^0.2.2",
       "_view_module": "jupyter-cytoscape",
       "_view_module_version": "^0.2.2",
       "edges": [
        "IPY_MODEL_be7d3af618054cc2bd760b75e43edb09",
        "IPY_MODEL_338425a1e6664412a403acbe0ca090ce",
        "IPY_MODEL_75beb40e42cc46f1ab2a62c1d37a5f36",
        "IPY_MODEL_cb19776b36dd4ae8acb457de5337e49e",
        "IPY_MODEL_ce0d627b6400471486c645e70f340eb9",
        "IPY_MODEL_a7f50419dac241f19c22b7b8904a3438",
        "IPY_MODEL_e50d1689cb494f39a96177bcd68bc669",
        "IPY_MODEL_b7c7b3b014b040a3a3db699acaff10d1",
        "IPY_MODEL_5f99241ecf1b49a2aee0f852f390fa28",
        "IPY_MODEL_a14f7a8272f2432597541062d918a017"
       ],
       "nodes": [
        "IPY_MODEL_abf691f029fd444194ed12b75ba8710c",
        "IPY_MODEL_4df47ca45adf473a99f10714f0316038",
        "IPY_MODEL_e79fd23e74a442efbbd7d3d015973870",
        "IPY_MODEL_50945dc2cdeb47f6b9c6dbef082c8d87",
        "IPY_MODEL_0e4d3f96548d42efb4405aeb034abaf9",
        "IPY_MODEL_dccf2587ad264f08b53c4f7bc6e6bd25",
        "IPY_MODEL_7a997672631d463fb80b6593be960a23"
       ]
      }
     },
     "23fe899237ee42afae4b97e89bb7def8": {
      "model_module": "jupyter-cytoscape",
      "model_module_version": "^0.2.2",
      "model_name": "NodeModel",
      "state": {
       "_model_module_version": "^0.2.2",
       "_view_module_version": "^0.2.2",
       "data": {
        "id": "c"
       }
      }
     },
     "267d3324924a4fa59709e432e135550b": {
      "model_module": "jupyter-cytoscape",
      "model_module_version": "^0.2.2",
      "model_name": "CytoscapeModel",
      "state": {
       "_model_module_version": "^0.2.2",
       "_view_module_version": "^0.2.2",
       "cytoscape_layout": {
        "edgeLengthVal": 10,
        "name": "dagre",
        "nodeSpacing": 10
       },
       "cytoscape_style": [
        {
         "css": {
          "background-color": "green",
          "color": "white",
          "content": "data(id)",
          "text-outline-color": "green",
          "text-outline-width": 2,
          "text-valign": "center"
         },
         "selector": "node",
         "wheelSensitivity": 0.01
        },
        {
         "css": {
          "background-color": "black",
          "line-color": "black",
          "source-arrow-color": "black",
          "target-arrow-color": "black",
          "text-outline-color": "black"
         },
         "selector": ":selected"
        },
        {
         "selector": "edge",
         "style": {
          "curve-style": "bezier",
          "label": "data(label)",
          "line-color": "#9dbaea",
          "target-arrow-color": "#9dbaea",
          "target-arrow-shape": "triangle"
         }
        }
       ],
       "graph": "IPY_MODEL_22ac8e0e2ef24a4886145ac518e990e7",
       "layout": "IPY_MODEL_e0e7a85f90d34a03aaf1c0d42b93db47",
       "rendered_position": {
        "renderedPosition": {
         "x": 100,
         "y": 100
        }
       },
       "zoom": 2
      }
     },
     "295b596e03f34569bcfdf9ed6ff63292": {
      "model_module": "jupyter-cytoscape",
      "model_module_version": "^0.2.2",
      "model_name": "NodeModel",
      "state": {
       "_model_module_version": "^0.2.2",
       "_view_module_version": "^0.2.2",
       "data": {
        "id": "e"
       }
      }
     },
     "2ab81d3ef5724aee9f1be58fe8cdfce9": {
      "model_module": "jupyter-cytoscape",
      "model_module_version": "^0.2.2",
      "model_name": "CytoscapeModel",
      "state": {
       "_model_module_version": "^0.2.2",
       "_view_module_version": "^0.2.2",
       "cytoscape_layout": {
        "edgeLengthVal": 10,
        "name": "dagre",
        "nodeSpacing": 10
       },
       "cytoscape_style": [
        {
         "css": {
          "background-color": "green",
          "color": "white",
          "content": "data(id)",
          "text-outline-color": "green",
          "text-outline-width": 2,
          "text-valign": "center"
         },
         "selector": "node",
         "wheelSensitivity": 0.01
        },
        {
         "selector": "edge[highlighted]",
         "style": {
          "label": "data(label)",
          "line-color": "red"
         }
        },
        {
         "css": {
          "background-color": "black",
          "line-color": "black",
          "source-arrow-color": "black",
          "target-arrow-color": "black",
          "text-outline-color": "black"
         },
         "selector": ":selected"
        },
        {
         "selector": "edge",
         "style": {
          "curve-style": "bezier",
          "label": "data(label)",
          "line-color": "data(highlighted)",
          "width": 5
         }
        }
       ],
       "graph": "IPY_MODEL_1253cb25f01a45ca978568201ec8c907",
       "layout": "IPY_MODEL_c5491b38c28448408c551af6b54e5983",
       "rendered_position": {
        "renderedPosition": {
         "x": 100,
         "y": 100
        }
       },
       "zoom": 2
      }
     },
     "2ad29b9aea3d43f3a5cb504c9cf89b29": {
      "model_module": "jupyter-cytoscape",
      "model_module_version": "^0.2.2",
      "model_name": "NodeModel",
      "state": {
       "_model_module_version": "^0.2.2",
       "_view_module_version": "^0.2.2",
       "data": {
        "id": "c"
       }
      }
     },
     "2e0687c3381b49edb689a1b86d2583a8": {
      "model_module": "jupyter-cytoscape",
      "model_module_version": "^0.2.2",
      "model_name": "NodeModel",
      "state": {
       "_model_module_version": "^0.2.2",
       "_view_module_version": "^0.2.2",
       "data": {
        "id": "e"
       }
      }
     },
     "2eef74ec96004020b7a25306321e1bd0": {
      "model_module": "jupyter-cytoscape",
      "model_module_version": "^0.2.2",
      "model_name": "NodeModel",
      "state": {
       "_model_module_version": "^0.2.2",
       "_view_module_version": "^0.2.2",
       "data": {
        "id": "g"
       }
      }
     },
     "303039c4c9624f01bad1d36bad441b12": {
      "model_module": "jupyter-cytoscape",
      "model_module_version": "^0.2.2",
      "model_name": "NodeModel",
      "state": {
       "_model_module_version": "^0.2.2",
       "_view_module_version": "^0.2.2",
       "data": {
        "id": "g"
       }
      }
     },
     "338425a1e6664412a403acbe0ca090ce": {
      "model_module": "jupyter-cytoscape",
      "model_module_version": "^0.2.2",
      "model_name": "EdgeModel",
      "state": {
       "_model_module_version": "^0.2.2",
       "_view_module": "jupyter-cytoscape",
       "_view_module_version": "^0.2.2",
       "data": {
        "id": "f2689e4f-0841-49d7-8c4b-0d4611a8cb9e",
        "source": "a",
        "target": "e"
       }
      }
     },
     "37b5ee9eed624a59bd47813b5d1839df": {
      "model_module": "jupyter-cytoscape",
      "model_module_version": "^0.2.2",
      "model_name": "CytoscapeModel",
      "state": {
       "_model_module_version": "^0.2.2",
       "_view_module_version": "^0.2.2",
       "cytoscape_layout": {
        "edgeLengthVal": 10,
        "name": "dagre",
        "nodeSpacing": 10
       },
       "cytoscape_style": [
        {
         "css": {
          "background-color": "green",
          "color": "white",
          "content": "data(id)",
          "text-outline-color": "green",
          "text-outline-width": 2,
          "text-valign": "center"
         },
         "selector": "node",
         "wheelSensitivity": 0.01
        },
        {
         "css": {
          "background-color": "black",
          "line-color": "black",
          "source-arrow-color": "black",
          "target-arrow-color": "black",
          "text-outline-color": "black"
         },
         "selector": ":selected"
        },
        {
         "selector": "edge",
         "style": {
          "curve-style": "bezier",
          "label": "data(label)",
          "line-color": "#9dbaea",
          "target-arrow-color": "#9dbaea",
          "target-arrow-shape": "triangle"
         }
        }
       ],
       "graph": "IPY_MODEL_1a040577bcae456a9721a32dc78d7b86",
       "layout": "IPY_MODEL_ac43d1acaee8408c8cf7de30a0cf2397",
       "rendered_position": {
        "renderedPosition": {
         "x": 100,
         "y": 100
        }
       },
       "zoom": 2
      }
     },
     "3838c49d96204ff29899f5c488eaa0bf": {
      "model_module": "jupyter-cytoscape",
      "model_module_version": "^0.2.2",
      "model_name": "NodeModel",
      "state": {
       "_model_module_version": "^0.2.2",
       "_view_module_version": "^0.2.2",
       "data": {
        "id": "f"
       }
      }
     },
     "3a5c8293152a4a7ca45bc237a3c3eb49": {
      "model_module": "jupyter-cytoscape",
      "model_module_version": "^0.2.2",
      "model_name": "EdgeModel",
      "state": {
       "_model_module_version": "^0.2.2",
       "_view_module": "jupyter-cytoscape",
       "_view_module_version": "^0.2.2",
       "data": {
        "highlighted": "#f0ba18",
        "id": "884a3732-1fe8-4033-8d2c-510845767bdb",
        "label": "5",
        "source": "b",
        "target": "c"
       }
      }
     },
     "3ac581b3b32e47f1a7c29b6d8dc10972": {
      "model_module": "jupyter-cytoscape",
      "model_module_version": "^0.2.2",
      "model_name": "EdgeModel",
      "state": {
       "_model_module_version": "^0.2.2",
       "_view_module": "jupyter-cytoscape",
       "_view_module_version": "^0.2.2",
       "data": {
        "id": "43ffbb0d-2e88-40c6-9e6b-5265313bbf6b",
        "source": "b",
        "target": "c"
       }
      }
     },
     "41f12b264dc64d1d998c1536f9314dc1": {
      "model_module": "jupyter-cytoscape",
      "model_module_version": "^0.2.2",
      "model_name": "NodeModel",
      "state": {
       "_model_module_version": "^0.2.2",
       "_view_module_version": "^0.2.2",
       "data": {
        "id": "f"
       }
      }
     },
     "45c6db487fb04c709449d3ba61b26197": {
      "model_module": "@jupyter-widgets/base",
      "model_module_version": "1.2.0",
      "model_name": "LayoutModel",
      "state": {}
     },
     "46829ad2a2544813a2e36671b9efc5f9": {
      "model_module": "jupyter-cytoscape",
      "model_module_version": "^0.2.2",
      "model_name": "NodeModel",
      "state": {
       "_model_module_version": "^0.2.2",
       "_view_module_version": "^0.2.2",
       "data": {
        "id": "g"
       }
      }
     },
     "46903a86cf234154a18b7c27d42edf66": {
      "model_module": "@jupyter-widgets/base",
      "model_module_version": "1.2.0",
      "model_name": "LayoutModel",
      "state": {}
     },
     "4cd06357342c4cc3bb194d7c25e3b119": {
      "model_module": "jupyter-cytoscape",
      "model_module_version": "^0.2.2",
      "model_name": "EdgeModel",
      "state": {
       "_model_module_version": "^0.2.2",
       "_view_module": "jupyter-cytoscape",
       "_view_module_version": "^0.2.2",
       "data": {
        "id": "6c692610-20b1-42d8-be94-7e782a2b97ae",
        "source": "c",
        "target": "d"
       }
      }
     },
     "4df47ca45adf473a99f10714f0316038": {
      "model_module": "jupyter-cytoscape",
      "model_module_version": "^0.2.2",
      "model_name": "NodeModel",
      "state": {
       "_model_module_version": "^0.2.2",
       "_view_module_version": "^0.2.2",
       "data": {
        "id": "b"
       }
      }
     },
     "4e3661cba12d454fa2431a05ad45a669": {
      "model_module": "jupyter-cytoscape",
      "model_module_version": "^0.2.2",
      "model_name": "NodeModel",
      "state": {
       "_model_module_version": "^0.2.2",
       "_view_module_version": "^0.2.2",
       "data": {
        "id": "f"
       }
      }
     },
     "4f5f5c7ab0e043e0a2467bbfcbf943f6": {
      "model_module": "jupyter-cytoscape",
      "model_module_version": "^0.2.2",
      "model_name": "EdgeModel",
      "state": {
       "_model_module_version": "^0.2.2",
       "_view_module": "jupyter-cytoscape",
       "_view_module_version": "^0.2.2",
       "data": {
        "highlighted": "#f0ba18",
        "id": "26a4364a-ecc7-445c-b188-c0323dc680de",
        "label": "3",
        "source": "a",
        "target": "b"
       }
      }
     },
     "50945dc2cdeb47f6b9c6dbef082c8d87": {
      "model_module": "jupyter-cytoscape",
      "model_module_version": "^0.2.2",
      "model_name": "NodeModel",
      "state": {
       "_model_module_version": "^0.2.2",
       "_view_module_version": "^0.2.2",
       "data": {
        "id": "d"
       }
      }
     },
     "5559089f26d34435944e527db59823d6": {
      "model_module": "jupyter-cytoscape",
      "model_module_version": "^0.2.2",
      "model_name": "NodeModel",
      "state": {
       "_model_module_version": "^0.2.2",
       "_view_module_version": "^0.2.2",
       "data": {
        "id": "c"
       }
      }
     },
     "55af0ad1f7d2406a9d5cdba3225a54e3": {
      "model_module": "jupyter-cytoscape",
      "model_module_version": "^0.2.2",
      "model_name": "EdgeModel",
      "state": {
       "_model_module_version": "^0.2.2",
       "_view_module": "jupyter-cytoscape",
       "_view_module_version": "^0.2.2",
       "data": {
        "highlighted": "#f0ba18",
        "id": "4d4a1fec-2686-457f-ac5e-ae45b7e27e72",
        "label": "7",
        "source": "a",
        "target": "b"
       }
      }
     },
     "55eb16c68ad44d93b1835f34560f4ac3": {
      "model_module": "jupyter-cytoscape",
      "model_module_version": "^0.2.2",
      "model_name": "GraphModel",
      "state": {
       "_model_module_version": "^0.2.2",
       "_view_module": "jupyter-cytoscape",
       "_view_module_version": "^0.2.2"
      }
     },
     "5c8292728c254da685ce6b1a5d042224": {
      "model_module": "jupyter-cytoscape",
      "model_module_version": "^0.2.2",
      "model_name": "EdgeModel",
      "state": {
       "_model_module_version": "^0.2.2",
       "_view_module": "jupyter-cytoscape",
       "_view_module_version": "^0.2.2",
       "data": {
        "highlighted": "#9dbaea",
        "id": "28a994b2-ba17-4b7a-b757-2518441ff60f",
        "label": "5",
        "source": "d",
        "target": "f"
       }
      }
     },
     "5f99241ecf1b49a2aee0f852f390fa28": {
      "model_module": "jupyter-cytoscape",
      "model_module_version": "^0.2.2",
      "model_name": "EdgeModel",
      "state": {
       "_model_module_version": "^0.2.2",
       "_view_module": "jupyter-cytoscape",
       "_view_module_version": "^0.2.2",
       "data": {
        "id": "3034dc4f-c853-42f8-a4df-d489c2999ce5",
        "source": "e",
        "target": "f"
       }
      }
     },
     "628454730d3c479bba1a35955e8ef946": {
      "model_module": "jupyter-cytoscape",
      "model_module_version": "^0.2.2",
      "model_name": "EdgeModel",
      "state": {
       "_model_module_version": "^0.2.2",
       "_view_module": "jupyter-cytoscape",
       "_view_module_version": "^0.2.2",
       "data": {
        "id": "1b693173-04ed-47de-8bc9-73de3a18afde",
        "source": "b",
        "target": "c"
       }
      }
     },
     "658825ceaca64a52a336f42985b6ef4c": {
      "model_module": "jupyter-cytoscape",
      "model_module_version": "^0.2.2",
      "model_name": "NodeModel",
      "state": {
       "_model_module_version": "^0.2.2",
       "_view_module_version": "^0.2.2",
       "data": {
        "id": "h"
       }
      }
     },
     "6634e3462c6d4e4c83af012b54c27f6f": {
      "model_module": "jupyter-cytoscape",
      "model_module_version": "^0.2.2",
      "model_name": "EdgeModel",
      "state": {
       "_model_module_version": "^0.2.2",
       "_view_module": "jupyter-cytoscape",
       "_view_module_version": "^0.2.2",
       "data": {
        "highlighted": "#9dbaea",
        "id": "fe4adfe1-a39e-4571-9614-e0432878d148",
        "label": "3",
        "source": "e",
        "target": "f"
       }
      }
     },
     "669793ec295b496996daa4d8c1060dff": {
      "model_module": "jupyter-cytoscape",
      "model_module_version": "^0.2.2",
      "model_name": "EdgeModel",
      "state": {
       "_model_module_version": "^0.2.2",
       "_view_module": "jupyter-cytoscape",
       "_view_module_version": "^0.2.2",
       "data": {
        "highlighted": "#f0ba18",
        "id": "2305bdad-7178-4fd8-a887-ed1e38721e91",
        "label": "2",
        "source": "a",
        "target": "f"
       }
      }
     },
     "69f908b6866c45cf85fb0b85bcd6ccc1": {
      "model_module": "jupyter-cytoscape",
      "model_module_version": "^0.2.2",
      "model_name": "NodeModel",
      "state": {
       "_model_module_version": "^0.2.2",
       "_view_module_version": "^0.2.2",
       "data": {
        "id": "i"
       }
      }
     },
     "71f10c5fb67941d093cd20cbe5ecbed6": {
      "model_module": "jupyter-cytoscape",
      "model_module_version": "^0.2.2",
      "model_name": "EdgeModel",
      "state": {
       "_model_module_version": "^0.2.2",
       "_view_module": "jupyter-cytoscape",
       "_view_module_version": "^0.2.2",
       "data": {
        "highlighted": "#9dbaea",
        "id": "49087b80-fcd3-4a4c-964b-bef25d06951b",
        "label": "3",
        "source": "e",
        "target": "g"
       }
      }
     },
     "72f08e6b1ea84b898109677fb18c5fb4": {
      "model_module": "jupyter-cytoscape",
      "model_module_version": "^0.2.2",
      "model_name": "EdgeModel",
      "state": {
       "_model_module_version": "^0.2.2",
       "_view_module": "jupyter-cytoscape",
       "_view_module_version": "^0.2.2",
       "data": {
        "highlighted": "#9dbaea",
        "id": "86768a0a-038e-4120-9523-d307ebbf8245",
        "label": "2",
        "source": "c",
        "target": "d"
       }
      }
     },
     "75beb40e42cc46f1ab2a62c1d37a5f36": {
      "model_module": "jupyter-cytoscape",
      "model_module_version": "^0.2.2",
      "model_name": "EdgeModel",
      "state": {
       "_model_module_version": "^0.2.2",
       "_view_module": "jupyter-cytoscape",
       "_view_module_version": "^0.2.2",
       "data": {
        "id": "b071c62f-677a-4c95-9961-c47cb1bcb66a",
        "source": "b",
        "target": "c"
       }
      }
     },
     "7a997672631d463fb80b6593be960a23": {
      "model_module": "jupyter-cytoscape",
      "model_module_version": "^0.2.2",
      "model_name": "NodeModel",
      "state": {
       "_model_module_version": "^0.2.2",
       "_view_module_version": "^0.2.2",
       "data": {
        "id": "g"
       }
      }
     },
     "7b3714d553a443079ad91b28b6d1091f": {
      "model_module": "jupyter-cytoscape",
      "model_module_version": "^0.2.2",
      "model_name": "NodeModel",
      "state": {
       "_model_module_version": "^0.2.2",
       "_view_module_version": "^0.2.2",
       "data": {
        "id": "f"
       }
      }
     },
     "7b77ddc3ec15427ea9711da58367089e": {
      "model_module": "jupyter-cytoscape",
      "model_module_version": "^0.2.2",
      "model_name": "NodeModel",
      "state": {
       "_model_module_version": "^0.2.2",
       "_view_module_version": "^0.2.2",
       "data": {
        "id": "a"
       }
      }
     },
     "7b8a9b4d282749b68b1d9a2d0c108b4d": {
      "model_module": "jupyter-cytoscape",
      "model_module_version": "^0.2.2",
      "model_name": "EdgeModel",
      "state": {
       "_model_module_version": "^0.2.2",
       "_view_module": "jupyter-cytoscape",
       "_view_module_version": "^0.2.2",
       "data": {
        "highlighted": "#f0ba18",
        "id": "0a747c9f-e219-46c4-a028-267e08437739",
        "label": "2",
        "source": "c",
        "target": "f"
       }
      }
     },
     "7bf6e156723d4deab51627414e8d50d6": {
      "model_module": "jupyter-cytoscape",
      "model_module_version": "^0.2.2",
      "model_name": "EdgeModel",
      "state": {
       "_model_module_version": "^0.2.2",
       "_view_module": "jupyter-cytoscape",
       "_view_module_version": "^0.2.2",
       "data": {
        "highlighted": "#9dbaea",
        "id": "0f3e4114-9425-4dd1-9959-076f3294bd11",
        "label": "4",
        "source": "c",
        "target": "d"
       }
      }
     },
     "816d10e2e5b84fd39ed8ba8b0938f9ea": {
      "model_module": "jupyter-cytoscape",
      "model_module_version": "^0.2.2",
      "model_name": "NodeModel",
      "state": {
       "_model_module_version": "^0.2.2",
       "_view_module_version": "^0.2.2",
       "data": {
        "id": "g"
       }
      }
     },
     "8261efb9e71c44088ee4188bedbecf6d": {
      "model_module": "jupyter-cytoscape",
      "model_module_version": "^0.2.2",
      "model_name": "EdgeModel",
      "state": {
       "_model_module_version": "^0.2.2",
       "_view_module": "jupyter-cytoscape",
       "_view_module_version": "^0.2.2",
       "data": {
        "highlighted": "#9dbaea",
        "id": "1982bf46-fef5-467e-b6e9-6fe3926f1a59",
        "label": "5",
        "source": "c",
        "target": "d"
       }
      }
     },
     "84c099baa41b468ab0f0237ec0edf701": {
      "model_module": "jupyter-cytoscape",
      "model_module_version": "^0.2.2",
      "model_name": "EdgeModel",
      "state": {
       "_model_module_version": "^0.2.2",
       "_view_module": "jupyter-cytoscape",
       "_view_module_version": "^0.2.2",
       "data": {
        "id": "0b4c3267-cf4e-4842-8df7-4c6e269ff9de",
        "source": "e",
        "target": "f"
       }
      }
     },
     "84c70811b75e41e685db9011f1b58551": {
      "model_module": "jupyter-cytoscape",
      "model_module_version": "^0.2.2",
      "model_name": "EdgeModel",
      "state": {
       "_model_module_version": "^0.2.2",
       "_view_module": "jupyter-cytoscape",
       "_view_module_version": "^0.2.2",
       "data": {
        "highlighted": "#f0ba18",
        "id": "03ced127-4e82-46b5-9cfc-720f4ee59678",
        "label": "3",
        "source": "b",
        "target": "i"
       }
      }
     },
     "882fb6f22d2b427b8656a5459f107f29": {
      "model_module": "jupyter-cytoscape",
      "model_module_version": "^0.2.2",
      "model_name": "GraphModel",
      "state": {
       "_model_module_version": "^0.2.2",
       "_view_module": "jupyter-cytoscape",
       "_view_module_version": "^0.2.2"
      }
     },
     "89536ccb22224fa69fc456ee28a2c2ec": {
      "model_module": "jupyter-cytoscape",
      "model_module_version": "^0.2.2",
      "model_name": "EdgeModel",
      "state": {
       "_model_module_version": "^0.2.2",
       "_view_module": "jupyter-cytoscape",
       "_view_module_version": "^0.2.2",
       "data": {
        "highlighted": "#f0ba18",
        "id": "b87e50cf-3963-404d-98fd-9e4b092e0824",
        "label": "2",
        "source": "c",
        "target": "e"
       }
      }
     },
     "8c0f0641c1c1445dabbfdd39dee856fa": {
      "model_module": "jupyter-cytoscape",
      "model_module_version": "^0.2.2",
      "model_name": "EdgeModel",
      "state": {
       "_model_module_version": "^0.2.2",
       "_view_module": "jupyter-cytoscape",
       "_view_module_version": "^0.2.2",
       "data": {
        "highlighted": "#f0ba18",
        "id": "ab3a9ec6-58a8-4241-aac6-89738470c22a",
        "label": "4",
        "source": "d",
        "target": "g"
       }
      }
     },
     "8c3549aa7f4f4f56b908213a76a297fa": {
      "model_module": "@jupyter-widgets/base",
      "model_module_version": "1.2.0",
      "model_name": "LayoutModel",
      "state": {}
     },
     "8d8c98c8e69e44ec9539aa7e30587386": {
      "model_module": "jupyter-cytoscape",
      "model_module_version": "^0.2.2",
      "model_name": "EdgeModel",
      "state": {
       "_model_module_version": "^0.2.2",
       "_view_module": "jupyter-cytoscape",
       "_view_module_version": "^0.2.2",
       "data": {
        "highlighted": "#f0ba18",
        "id": "76ea8095-46b3-43f3-9e2d-4a7e496f21eb",
        "label": "4",
        "source": "d",
        "target": "g"
       }
      }
     },
     "8dda150de8ff4dea9a541ad886214cb0": {
      "model_module": "jupyter-cytoscape",
      "model_module_version": "^0.2.2",
      "model_name": "CytoscapeModel",
      "state": {
       "_model_module_version": "^0.2.2",
       "_view_module_version": "^0.2.2",
       "cytoscape_layout": {
        "edgeLengthVal": 10,
        "name": "dagre",
        "nodeSpacing": 10
       },
       "cytoscape_style": [
        {
         "css": {
          "background-color": "green",
          "color": "white",
          "content": "data(id)",
          "text-outline-color": "green",
          "text-outline-width": 2,
          "text-valign": "center"
         },
         "selector": "node",
         "wheelSensitivity": 0.01
        },
        {
         "selector": "edge[highlighted]",
         "style": {
          "label": "data(label)",
          "line-color": "red"
         }
        },
        {
         "css": {
          "background-color": "black",
          "line-color": "black",
          "source-arrow-color": "black",
          "target-arrow-color": "black",
          "text-outline-color": "black"
         },
         "selector": ":selected"
        },
        {
         "selector": "edge",
         "style": {
          "curve-style": "bezier",
          "label": "data(label)",
          "line-color": "data(highlighted)",
          "width": 5
         }
        }
       ],
       "graph": "IPY_MODEL_d93e255748464a3a9318b96fbcd394a0",
       "layout": "IPY_MODEL_45c6db487fb04c709449d3ba61b26197",
       "rendered_position": {
        "renderedPosition": {
         "x": 100,
         "y": 100
        }
       },
       "zoom": 2
      }
     },
     "8e623e4638d547fd9e1e0e944fb61189": {
      "model_module": "jupyter-cytoscape",
      "model_module_version": "^0.2.2",
      "model_name": "NodeModel",
      "state": {
       "_model_module_version": "^0.2.2",
       "_view_module_version": "^0.2.2",
       "data": {
        "id": "d"
       }
      }
     },
     "92e5ed1828af472692ea0c7af09da85c": {
      "model_module": "jupyter-cytoscape",
      "model_module_version": "^0.2.2",
      "model_name": "EdgeModel",
      "state": {
       "_model_module_version": "^0.2.2",
       "_view_module": "jupyter-cytoscape",
       "_view_module_version": "^0.2.2",
       "data": {
        "highlighted": "#f0ba18",
        "id": "f3a227ff-e39a-4256-8387-dae7b9e2da30",
        "label": "5",
        "source": "c",
        "target": "f"
       }
      }
     },
     "95491c04465a40a8a490ffd91f1b7807": {
      "model_module": "jupyter-cytoscape",
      "model_module_version": "^0.2.2",
      "model_name": "NodeModel",
      "state": {
       "_model_module_version": "^0.2.2",
       "_view_module_version": "^0.2.2",
       "data": {
        "id": "e"
       }
      }
     },
     "957e99dff59c4286bc34511cce6d47e9": {
      "model_module": "jupyter-cytoscape",
      "model_module_version": "^0.2.2",
      "model_name": "EdgeModel",
      "state": {
       "_model_module_version": "^0.2.2",
       "_view_module": "jupyter-cytoscape",
       "_view_module_version": "^0.2.2",
       "data": {
        "highlighted": "#f0ba18",
        "id": "bc1046d3-a56e-41b3-b318-a01d946c9f74",
        "label": "2",
        "source": "c",
        "target": "f"
       }
      }
     },
     "964732e94fe848aa8a54485a3f634114": {
      "model_module": "jupyter-cytoscape",
      "model_module_version": "^0.2.2",
      "model_name": "EdgeModel",
      "state": {
       "_model_module_version": "^0.2.2",
       "_view_module": "jupyter-cytoscape",
       "_view_module_version": "^0.2.2",
       "data": {
        "highlighted": "#9dbaea",
        "id": "d0165633-32da-4818-87be-a1b8b968e3af",
        "label": "3",
        "source": "e",
        "target": "f"
       }
      }
     },
     "9def460c3e324a54bdf5acc0ae58cb91": {
      "model_module": "jupyter-cytoscape",
      "model_module_version": "^0.2.2",
      "model_name": "EdgeModel",
      "state": {
       "_model_module_version": "^0.2.2",
       "_view_module": "jupyter-cytoscape",
       "_view_module_version": "^0.2.2",
       "data": {
        "highlighted": "#f0ba18",
        "id": "1c0e7612-5c95-411f-8398-be8281f79686",
        "label": "1",
        "source": "b",
        "target": "c"
       }
      }
     },
     "a14f7a8272f2432597541062d918a017": {
      "model_module": "jupyter-cytoscape",
      "model_module_version": "^0.2.2",
      "model_name": "EdgeModel",
      "state": {
       "_model_module_version": "^0.2.2",
       "_view_module": "jupyter-cytoscape",
       "_view_module_version": "^0.2.2",
       "data": {
        "id": "62a6b36a-6ba7-472a-a0ec-6b7185a41ee7",
        "source": "f",
        "target": "c"
       }
      }
     },
     "a1f6b08ba68f414a95bf0bfc11c61ce7": {
      "model_module": "jupyter-cytoscape",
      "model_module_version": "^0.2.2",
      "model_name": "NodeModel",
      "state": {
       "_model_module_version": "^0.2.2",
       "_view_module_version": "^0.2.2",
       "data": {
        "id": "b"
       }
      }
     },
     "a5747e843e1e4d818b3088b0095e26d3": {
      "model_module": "jupyter-cytoscape",
      "model_module_version": "^0.2.2",
      "model_name": "EdgeModel",
      "state": {
       "_model_module_version": "^0.2.2",
       "_view_module": "jupyter-cytoscape",
       "_view_module_version": "^0.2.2",
       "data": {
        "id": "6f21a225-88b1-4e00-9d59-be61e7499ee6",
        "source": "a",
        "target": "g"
       }
      }
     },
     "a59bfc0b9603460eb9b6949bd8728e57": {
      "model_module": "jupyter-cytoscape",
      "model_module_version": "^0.2.2",
      "model_name": "NodeModel",
      "state": {
       "_model_module_version": "^0.2.2",
       "_view_module_version": "^0.2.2",
       "data": {
        "id": "a"
       }
      }
     },
     "a7f50419dac241f19c22b7b8904a3438": {
      "model_module": "jupyter-cytoscape",
      "model_module_version": "^0.2.2",
      "model_name": "EdgeModel",
      "state": {
       "_model_module_version": "^0.2.2",
       "_view_module": "jupyter-cytoscape",
       "_view_module_version": "^0.2.2",
       "data": {
        "id": "fc43a4e2-b66f-4500-9a61-31c1f5e42251",
        "source": "d",
        "target": "c"
       }
      }
     },
     "abf691f029fd444194ed12b75ba8710c": {
      "model_module": "jupyter-cytoscape",
      "model_module_version": "^0.2.2",
      "model_name": "NodeModel",
      "state": {
       "_model_module_version": "^0.2.2",
       "_view_module_version": "^0.2.2",
       "data": {
        "id": "a"
       }
      }
     },
     "ac4311b704834bb4b853e52003467cba": {
      "model_module": "jupyter-cytoscape",
      "model_module_version": "^0.2.2",
      "model_name": "EdgeModel",
      "state": {
       "_model_module_version": "^0.2.2",
       "_view_module": "jupyter-cytoscape",
       "_view_module_version": "^0.2.2",
       "data": {
        "highlighted": "#9dbaea",
        "id": "1fd8a1b5-ce36-4ff1-ab92-2fa0393f57ad",
        "label": "2",
        "source": "c",
        "target": "i"
       }
      }
     },
     "ac43d1acaee8408c8cf7de30a0cf2397": {
      "model_module": "@jupyter-widgets/base",
      "model_module_version": "1.2.0",
      "model_name": "LayoutModel",
      "state": {}
     },
     "affc2437febb4149bc34a512e3f8820c": {
      "model_module": "jupyter-cytoscape",
      "model_module_version": "^0.2.2",
      "model_name": "EdgeModel",
      "state": {
       "_model_module_version": "^0.2.2",
       "_view_module": "jupyter-cytoscape",
       "_view_module_version": "^0.2.2",
       "data": {
        "highlighted": "#9dbaea",
        "id": "5d4cba46-7172-4875-9fd9-fe3153ea9f51",
        "label": "5",
        "source": "f",
        "target": "g"
       }
      }
     },
     "b021c7c9a1a14b6ea9a8f598ba8dd0a7": {
      "model_module": "jupyter-cytoscape",
      "model_module_version": "^0.2.2",
      "model_name": "EdgeModel",
      "state": {
       "_model_module_version": "^0.2.2",
       "_view_module": "jupyter-cytoscape",
       "_view_module_version": "^0.2.2",
       "data": {
        "highlighted": "#9dbaea",
        "id": "202086d9-7644-4c67-9d1e-623801c35ed8",
        "label": "3",
        "source": "d",
        "target": "f"
       }
      }
     },
     "b0ceb2ff91df4105b14ec8f7d5b792bf": {
      "model_module": "jupyter-cytoscape",
      "model_module_version": "^0.2.2",
      "model_name": "EdgeModel",
      "state": {
       "_model_module_version": "^0.2.2",
       "_view_module": "jupyter-cytoscape",
       "_view_module_version": "^0.2.2",
       "data": {
        "highlighted": "#f0ba18",
        "id": "805ac8ac-7d06-4b59-b592-2cc6dcb377aa",
        "label": "1",
        "source": "a",
        "target": "b"
       }
      }
     },
     "b2ac97905cf445f986e526e8274144f0": {
      "model_module": "jupyter-cytoscape",
      "model_module_version": "^0.2.2",
      "model_name": "NodeModel",
      "state": {
       "_model_module_version": "^0.2.2",
       "_view_module_version": "^0.2.2",
       "data": {
        "id": "d"
       }
      }
     },
     "b47744440cf941a7975cda9ba2e9c17a": {
      "model_module": "jupyter-cytoscape",
      "model_module_version": "^0.2.2",
      "model_name": "CytoscapeModel",
      "state": {
       "_model_module_version": "^0.2.2",
       "_view_module_version": "^0.2.2",
       "cytoscape_layout": {
        "edgeLengthVal": 10,
        "name": "dagre",
        "nodeSpacing": 10
       },
       "cytoscape_style": [
        {
         "css": {
          "background-color": "green",
          "color": "white",
          "content": "data(id)",
          "text-outline-color": "green",
          "text-outline-width": 2,
          "text-valign": "center"
         },
         "selector": "node",
         "wheelSensitivity": 0.01
        },
        {
         "selector": "edge[highlighted]",
         "style": {
          "label": "data(label)",
          "line-color": "red"
         }
        },
        {
         "css": {
          "background-color": "black",
          "line-color": "black",
          "source-arrow-color": "black",
          "target-arrow-color": "black",
          "text-outline-color": "black"
         },
         "selector": ":selected"
        },
        {
         "selector": "edge",
         "style": {
          "curve-style": "bezier",
          "label": "data(label)",
          "line-color": "data(highlighted)",
          "width": 5
         }
        }
       ],
       "graph": "IPY_MODEL_f6e53ee19f584627b37f76037cab513f",
       "layout": "IPY_MODEL_8c3549aa7f4f4f56b908213a76a297fa",
       "rendered_position": {
        "renderedPosition": {
         "x": 100,
         "y": 100
        }
       },
       "zoom": 2
      }
     },
     "b7c7b3b014b040a3a3db699acaff10d1": {
      "model_module": "jupyter-cytoscape",
      "model_module_version": "^0.2.2",
      "model_name": "EdgeModel",
      "state": {
       "_model_module_version": "^0.2.2",
       "_view_module": "jupyter-cytoscape",
       "_view_module_version": "^0.2.2",
       "data": {
        "id": "df82e24b-967b-485f-a3be-27588bd7958c",
        "source": "d",
        "target": "f"
       }
      }
     },
     "b7e99e7912484764abf41e9a67581909": {
      "model_module": "jupyter-cytoscape",
      "model_module_version": "^0.2.2",
      "model_name": "EdgeModel",
      "state": {
       "_model_module_version": "^0.2.2",
       "_view_module": "jupyter-cytoscape",
       "_view_module_version": "^0.2.2",
       "data": {
        "highlighted": "#f0ba18",
        "id": "a2995277-f235-437d-9f8e-dc03df7ebe67",
        "label": "1",
        "source": "b",
        "target": "d"
       }
      }
     },
     "b8b572b9959b4ee7ae24f44ce106f40b": {
      "model_module": "jupyter-cytoscape",
      "model_module_version": "^0.2.2",
      "model_name": "NodeModel",
      "state": {
       "_model_module_version": "^0.2.2",
       "_view_module_version": "^0.2.2",
       "data": {
        "id": "c"
       }
      }
     },
     "bca8fc076cd843a0bcf236620bd1932c": {
      "model_module": "jupyter-cytoscape",
      "model_module_version": "^0.2.2",
      "model_name": "NodeModel",
      "state": {
       "_model_module_version": "^0.2.2",
       "_view_module_version": "^0.2.2",
       "data": {
        "id": "g"
       }
      }
     },
     "bd34e7e708b1483cb823e3299c1e29ec": {
      "model_module": "jupyter-cytoscape",
      "model_module_version": "^0.2.2",
      "model_name": "NodeModel",
      "state": {
       "_model_module_version": "^0.2.2",
       "_view_module_version": "^0.2.2",
       "data": {
        "id": "f"
       }
      }
     },
     "bd8c630fc9614b879a41ad88950fd868": {
      "model_module": "jupyter-cytoscape",
      "model_module_version": "^0.2.2",
      "model_name": "GraphModel",
      "state": {
       "_model_module_version": "^0.2.2",
       "_view_module": "jupyter-cytoscape",
       "_view_module_version": "^0.2.2"
      }
     },
     "be7d3af618054cc2bd760b75e43edb09": {
      "model_module": "jupyter-cytoscape",
      "model_module_version": "^0.2.2",
      "model_name": "EdgeModel",
      "state": {
       "_model_module_version": "^0.2.2",
       "_view_module": "jupyter-cytoscape",
       "_view_module_version": "^0.2.2",
       "data": {
        "id": "5b187546-e625-4f7d-bb94-5f2ff8d5e310",
        "source": "a",
        "target": "b"
       }
      }
     },
     "c07e1f5722e848c682a4ddb16e9860d4": {
      "model_module": "jupyter-cytoscape",
      "model_module_version": "^0.2.2",
      "model_name": "NodeModel",
      "state": {
       "_model_module_version": "^0.2.2",
       "_view_module_version": "^0.2.2",
       "data": {
        "id": "d"
       }
      }
     },
     "c2291632c3d64eccaa952eff2fe502cc": {
      "model_module": "jupyter-cytoscape",
      "model_module_version": "^0.2.2",
      "model_name": "EdgeModel",
      "state": {
       "_model_module_version": "^0.2.2",
       "_view_module": "jupyter-cytoscape",
       "_view_module_version": "^0.2.2",
       "data": {
        "id": "aa9d99ab-abf1-4956-9c9b-eeacb769c8d9",
        "source": "a",
        "target": "b"
       }
      }
     },
     "c4792c78afe04ad681b0e3437177d7e9": {
      "model_module": "jupyter-cytoscape",
      "model_module_version": "^0.2.2",
      "model_name": "GraphModel",
      "state": {
       "_model_module_version": "^0.2.2",
       "_view_module": "jupyter-cytoscape",
       "_view_module_version": "^0.2.2"
      }
     },
     "c5491b38c28448408c551af6b54e5983": {
      "model_module": "@jupyter-widgets/base",
      "model_module_version": "1.2.0",
      "model_name": "LayoutModel",
      "state": {}
     },
     "c5697137f7eb4672b17caab55eafd5f1": {
      "model_module": "jupyter-cytoscape",
      "model_module_version": "^0.2.2",
      "model_name": "EdgeModel",
      "state": {
       "_model_module_version": "^0.2.2",
       "_view_module": "jupyter-cytoscape",
       "_view_module_version": "^0.2.2",
       "data": {
        "highlighted": "#9dbaea",
        "id": "415cceea-0260-4dca-89da-9c627e878722",
        "label": "3",
        "source": "g",
        "target": "h"
       }
      }
     },
     "c6266f989ae34ddd8f01f5a023f796db": {
      "model_module": "jupyter-cytoscape",
      "model_module_version": "^0.2.2",
      "model_name": "EdgeModel",
      "state": {
       "_model_module_version": "^0.2.2",
       "_view_module": "jupyter-cytoscape",
       "_view_module_version": "^0.2.2",
       "data": {
        "highlighted": "#f0ba18",
        "id": "5b8749ab-e202-4328-acb2-e3358d1a4180",
        "label": "7",
        "source": "a",
        "target": "b"
       }
      }
     },
     "c79b1b2e609b43248c124fa9dde77eac": {
      "model_module": "jupyter-cytoscape",
      "model_module_version": "^0.2.2",
      "model_name": "EdgeModel",
      "state": {
       "_model_module_version": "^0.2.2",
       "_view_module": "jupyter-cytoscape",
       "_view_module_version": "^0.2.2",
       "data": {
        "highlighted": "#f0ba18",
        "id": "320c23d2-4adb-4c17-9430-91ce7090e4b3",
        "label": "3",
        "source": "f",
        "target": "g"
       }
      }
     },
     "c96ade0c773d4ab4a8f9c721ea4d7700": {
      "model_module": "jupyter-cytoscape",
      "model_module_version": "^0.2.2",
      "model_name": "EdgeModel",
      "state": {
       "_model_module_version": "^0.2.2",
       "_view_module": "jupyter-cytoscape",
       "_view_module_version": "^0.2.2",
       "data": {
        "id": "df648f8f-35e2-499c-9553-f9e5937502e7",
        "source": "f",
        "target": "g"
       }
      }
     },
     "cb19776b36dd4ae8acb457de5337e49e": {
      "model_module": "jupyter-cytoscape",
      "model_module_version": "^0.2.2",
      "model_name": "EdgeModel",
      "state": {
       "_model_module_version": "^0.2.2",
       "_view_module": "jupyter-cytoscape",
       "_view_module_version": "^0.2.2",
       "data": {
        "id": "db03e21b-90dc-41db-8102-bad3e8c6b0ac",
        "source": "b",
        "target": "e"
       }
      }
     },
     "ce0d627b6400471486c645e70f340eb9": {
      "model_module": "jupyter-cytoscape",
      "model_module_version": "^0.2.2",
      "model_name": "EdgeModel",
      "state": {
       "_model_module_version": "^0.2.2",
       "_view_module": "jupyter-cytoscape",
       "_view_module_version": "^0.2.2",
       "data": {
        "id": "df646788-dea6-4df9-b432-f4a442437a1f",
        "source": "b",
        "target": "g"
       }
      }
     },
     "cfb4d837a57441d3b75a01bc0dae12f3": {
      "model_module": "jupyter-cytoscape",
      "model_module_version": "^0.2.2",
      "model_name": "EdgeModel",
      "state": {
       "_model_module_version": "^0.2.2",
       "_view_module": "jupyter-cytoscape",
       "_view_module_version": "^0.2.2",
       "data": {
        "highlighted": "#f0ba18",
        "id": "dfef978b-bb87-4ee4-b6f6-cc96cd8ea866",
        "label": "2",
        "source": "f",
        "target": "h"
       }
      }
     },
     "d38eeafa265b4f71810c986dc17e4db2": {
      "model_module": "jupyter-cytoscape",
      "model_module_version": "^0.2.2",
      "model_name": "EdgeModel",
      "state": {
       "_model_module_version": "^0.2.2",
       "_view_module": "jupyter-cytoscape",
       "_view_module_version": "^0.2.2",
       "data": {
        "highlighted": "#f0ba18",
        "id": "4afb4197-fafb-4729-a230-306b5428dbf7",
        "label": "5",
        "source": "b",
        "target": "c"
       }
      }
     },
     "d63712a9cd6440fbbca13e582e4331bd": {
      "model_module": "jupyter-cytoscape",
      "model_module_version": "^0.2.2",
      "model_name": "EdgeModel",
      "state": {
       "_model_module_version": "^0.2.2",
       "_view_module": "jupyter-cytoscape",
       "_view_module_version": "^0.2.2",
       "data": {
        "highlighted": "#f0ba18",
        "id": "f9c3a628-d166-4a09-8eab-6d0a1fb002d1",
        "label": "1",
        "source": "b",
        "target": "d"
       }
      }
     },
     "d6a0f182ea104469bd1dc49410a5d6bf": {
      "model_module": "jupyter-cytoscape",
      "model_module_version": "^0.2.2",
      "model_name": "EdgeModel",
      "state": {
       "_model_module_version": "^0.2.2",
       "_view_module": "jupyter-cytoscape",
       "_view_module_version": "^0.2.2",
       "data": {
        "highlighted": "#9dbaea",
        "id": "4fcc813e-9a80-4c76-be59-0e0bceacffc6",
        "label": "7",
        "source": "d",
        "target": "e"
       }
      }
     },
     "d8323153623d4796b65f820ec9b5407a": {
      "model_module": "jupyter-cytoscape",
      "model_module_version": "^0.2.2",
      "model_name": "NodeModel",
      "state": {
       "_model_module_version": "^0.2.2",
       "_view_module_version": "^0.2.2",
       "data": {
        "id": "c"
       }
      }
     },
     "d93e255748464a3a9318b96fbcd394a0": {
      "model_module": "jupyter-cytoscape",
      "model_module_version": "^0.2.2",
      "model_name": "GraphModel",
      "state": {
       "_model_module_version": "^0.2.2",
       "_view_module": "jupyter-cytoscape",
       "_view_module_version": "^0.2.2",
       "edges": [
        "IPY_MODEL_55af0ad1f7d2406a9d5cdba3225a54e3",
        "IPY_MODEL_3a5c8293152a4a7ca45bc237a3c3eb49",
        "IPY_MODEL_d63712a9cd6440fbbca13e582e4331bd",
        "IPY_MODEL_f690dbd2c7394b1eb02e971ee2da3c96",
        "IPY_MODEL_89536ccb22224fa69fc456ee28a2c2ec",
        "IPY_MODEL_957e99dff59c4286bc34511cce6d47e9",
        "IPY_MODEL_f0212fbcd4e64f56846163b22d3c6413",
        "IPY_MODEL_8d8c98c8e69e44ec9539aa7e30587386",
        "IPY_MODEL_6634e3462c6d4e4c83af012b54c27f6f",
        "IPY_MODEL_ea0488d35771419aa3b068e3d9ad9ea2",
        "IPY_MODEL_ea7ad17dcbed457ead20b187106db216"
       ],
       "nodes": [
        "IPY_MODEL_ff38eab90a5a41c5b5893534e71c3f8b",
        "IPY_MODEL_ea9263772f484ac6aff68f7636dd909d",
        "IPY_MODEL_b8b572b9959b4ee7ae24f44ce106f40b",
        "IPY_MODEL_b2ac97905cf445f986e526e8274144f0",
        "IPY_MODEL_eef1169df684431092b13c69c498008f",
        "IPY_MODEL_bd34e7e708b1483cb823e3299c1e29ec",
        "IPY_MODEL_816d10e2e5b84fd39ed8ba8b0938f9ea"
       ]
      }
     },
     "d961a17ab44d4b14b19a404bf809b344": {
      "model_module": "jupyter-cytoscape",
      "model_module_version": "^0.2.2",
      "model_name": "EdgeModel",
      "state": {
       "_model_module_version": "^0.2.2",
       "_view_module": "jupyter-cytoscape",
       "_view_module_version": "^0.2.2",
       "data": {
        "id": "a001a957-f955-4f11-b943-762586a2ff4f",
        "source": "d",
        "target": "e"
       }
      }
     },
     "d97175bc51994803b1853da3c381386b": {
      "model_module": "jupyter-cytoscape",
      "model_module_version": "^0.2.2",
      "model_name": "NodeModel",
      "state": {
       "_model_module_version": "^0.2.2",
       "_view_module_version": "^0.2.2",
       "data": {
        "id": "d"
       }
      }
     },
     "db71c420a95b46a9b8692b7cb89ee37c": {
      "model_module": "jupyter-cytoscape",
      "model_module_version": "^0.2.2",
      "model_name": "GraphModel",
      "state": {
       "_model_module_version": "^0.2.2",
       "_view_module": "jupyter-cytoscape",
       "_view_module_version": "^0.2.2"
      }
     },
     "dc34bc45e5b344a2a821e5ce72215175": {
      "model_module": "jupyter-cytoscape",
      "model_module_version": "^0.2.2",
      "model_name": "GraphModel",
      "state": {
       "_model_module_version": "^0.2.2",
       "_view_module": "jupyter-cytoscape",
       "_view_module_version": "^0.2.2",
       "edges": [
        "IPY_MODEL_c6266f989ae34ddd8f01f5a023f796db",
        "IPY_MODEL_d38eeafa265b4f71810c986dc17e4db2",
        "IPY_MODEL_b7e99e7912484764abf41e9a67581909",
        "IPY_MODEL_7bf6e156723d4deab51627414e8d50d6",
        "IPY_MODEL_ddbd29539e5f440bba50ca72720c7548",
        "IPY_MODEL_7b8a9b4d282749b68b1d9a2d0c108b4d",
        "IPY_MODEL_b021c7c9a1a14b6ea9a8f598ba8dd0a7",
        "IPY_MODEL_8c0f0641c1c1445dabbfdd39dee856fa",
        "IPY_MODEL_964732e94fe848aa8a54485a3f634114",
        "IPY_MODEL_71f10c5fb67941d093cd20cbe5ecbed6",
        "IPY_MODEL_affc2437febb4149bc34a512e3f8820c"
       ],
       "nodes": [
        "IPY_MODEL_1c9c56e578c8464ba38a3e745511b9b9",
        "IPY_MODEL_f52bf34be20f4b059a3a2b50c042a3ac",
        "IPY_MODEL_5559089f26d34435944e527db59823d6",
        "IPY_MODEL_8e623e4638d547fd9e1e0e944fb61189",
        "IPY_MODEL_0717dfb0139846819df22c1792b2612d",
        "IPY_MODEL_7b3714d553a443079ad91b28b6d1091f",
        "IPY_MODEL_46829ad2a2544813a2e36671b9efc5f9"
       ]
      }
     },
     "dc7065c7a5cd40e29093daf5d3a214ce": {
      "model_module": "jupyter-cytoscape",
      "model_module_version": "^0.2.2",
      "model_name": "EdgeModel",
      "state": {
       "_model_module_version": "^0.2.2",
       "_view_module": "jupyter-cytoscape",
       "_view_module_version": "^0.2.2",
       "data": {
        "highlighted": "#f0ba18",
        "id": "078350e0-bfad-4042-9db6-5634bb9f971e",
        "label": "4",
        "source": "f",
        "target": "g"
       }
      }
     },
     "dccf2587ad264f08b53c4f7bc6e6bd25": {
      "model_module": "jupyter-cytoscape",
      "model_module_version": "^0.2.2",
      "model_name": "NodeModel",
      "state": {
       "_model_module_version": "^0.2.2",
       "_view_module_version": "^0.2.2",
       "data": {
        "id": "f"
       }
      }
     },
     "ddbd29539e5f440bba50ca72720c7548": {
      "model_module": "jupyter-cytoscape",
      "model_module_version": "^0.2.2",
      "model_name": "EdgeModel",
      "state": {
       "_model_module_version": "^0.2.2",
       "_view_module": "jupyter-cytoscape",
       "_view_module_version": "^0.2.2",
       "data": {
        "highlighted": "#f0ba18",
        "id": "def185a6-be5a-4a87-bcb5-4daffedef910",
        "label": "2",
        "source": "c",
        "target": "e"
       }
      }
     },
     "e0e7a85f90d34a03aaf1c0d42b93db47": {
      "model_module": "@jupyter-widgets/base",
      "model_module_version": "1.2.0",
      "model_name": "LayoutModel",
      "state": {}
     },
     "e50d1689cb494f39a96177bcd68bc669": {
      "model_module": "jupyter-cytoscape",
      "model_module_version": "^0.2.2",
      "model_name": "EdgeModel",
      "state": {
       "_model_module_version": "^0.2.2",
       "_view_module": "jupyter-cytoscape",
       "_view_module_version": "^0.2.2",
       "data": {
        "id": "42a199c0-460b-4be6-990f-3e7ab2be2e45",
        "source": "d",
        "target": "e"
       }
      }
     },
     "e7061c58c79547ce894e04b1875ae9b9": {
      "model_module": "jupyter-cytoscape",
      "model_module_version": "^0.2.2",
      "model_name": "EdgeModel",
      "state": {
       "_model_module_version": "^0.2.2",
       "_view_module": "jupyter-cytoscape",
       "_view_module_version": "^0.2.2",
       "data": {
        "id": "79056f5a-e4fd-4294-b060-72ecfdc4b34b",
        "source": "b",
        "target": "e"
       }
      }
     },
     "e79fd23e74a442efbbd7d3d015973870": {
      "model_module": "jupyter-cytoscape",
      "model_module_version": "^0.2.2",
      "model_name": "NodeModel",
      "state": {
       "_model_module_version": "^0.2.2",
       "_view_module_version": "^0.2.2",
       "data": {
        "id": "c"
       }
      }
     },
     "ea0488d35771419aa3b068e3d9ad9ea2": {
      "model_module": "jupyter-cytoscape",
      "model_module_version": "^0.2.2",
      "model_name": "EdgeModel",
      "state": {
       "_model_module_version": "^0.2.2",
       "_view_module": "jupyter-cytoscape",
       "_view_module_version": "^0.2.2",
       "data": {
        "highlighted": "#9dbaea",
        "id": "f3301712-50be-47ba-88f8-6c03337150fd",
        "label": "3",
        "source": "e",
        "target": "g"
       }
      }
     },
     "ea23870e16de458383ed3f6c19c1336e": {
      "model_module": "jupyter-cytoscape",
      "model_module_version": "^0.2.2",
      "model_name": "EdgeModel",
      "state": {
       "_model_module_version": "^0.2.2",
       "_view_module": "jupyter-cytoscape",
       "_view_module_version": "^0.2.2",
       "data": {
        "highlighted": "#9dbaea",
        "id": "355c8c1c-7a64-43e0-80f7-48d4f21bf059",
        "label": "4",
        "source": "a",
        "target": "d"
       }
      }
     },
     "ea7ad17dcbed457ead20b187106db216": {
      "model_module": "jupyter-cytoscape",
      "model_module_version": "^0.2.2",
      "model_name": "EdgeModel",
      "state": {
       "_model_module_version": "^0.2.2",
       "_view_module": "jupyter-cytoscape",
       "_view_module_version": "^0.2.2",
       "data": {
        "highlighted": "#9dbaea",
        "id": "1539af08-3b6f-4bd9-878f-935a8717416b",
        "label": "5",
        "source": "f",
        "target": "g"
       }
      }
     },
     "ea9263772f484ac6aff68f7636dd909d": {
      "model_module": "jupyter-cytoscape",
      "model_module_version": "^0.2.2",
      "model_name": "NodeModel",
      "state": {
       "_model_module_version": "^0.2.2",
       "_view_module_version": "^0.2.2",
       "data": {
        "id": "b"
       }
      }
     },
     "ec6c788a4ebb423d8ee22f0944351a3a": {
      "model_module": "jupyter-cytoscape",
      "model_module_version": "^0.2.2",
      "model_name": "EdgeModel",
      "state": {
       "_model_module_version": "^0.2.2",
       "_view_module": "jupyter-cytoscape",
       "_view_module_version": "^0.2.2",
       "data": {
        "highlighted": "#f0ba18",
        "id": "093d796e-1227-42b9-917e-c652ff901028",
        "label": "3",
        "source": "d",
        "target": "e"
       }
      }
     },
     "eef1169df684431092b13c69c498008f": {
      "model_module": "jupyter-cytoscape",
      "model_module_version": "^0.2.2",
      "model_name": "NodeModel",
      "state": {
       "_model_module_version": "^0.2.2",
       "_view_module_version": "^0.2.2",
       "data": {
        "id": "e"
       }
      }
     },
     "efb00db354e24b4eac753000221bb5cb": {
      "model_module": "jupyter-cytoscape",
      "model_module_version": "^0.2.2",
      "model_name": "EdgeModel",
      "state": {
       "_model_module_version": "^0.2.2",
       "_view_module": "jupyter-cytoscape",
       "_view_module_version": "^0.2.2",
       "data": {
        "highlighted": "#f0ba18",
        "id": "d45541d1-8b4b-42f9-90ef-5e5dcb9baa39",
        "label": "2",
        "source": "a",
        "target": "c"
       }
      }
     },
     "f0212fbcd4e64f56846163b22d3c6413": {
      "model_module": "jupyter-cytoscape",
      "model_module_version": "^0.2.2",
      "model_name": "EdgeModel",
      "state": {
       "_model_module_version": "^0.2.2",
       "_view_module": "jupyter-cytoscape",
       "_view_module_version": "^0.2.2",
       "data": {
        "highlighted": "#9dbaea",
        "id": "d2bec8c5-b45c-404e-9298-1041cc419e79",
        "label": "3",
        "source": "d",
        "target": "f"
       }
      }
     },
     "f14f88910d11469e884e6f46d41627c5": {
      "model_module": "jupyter-cytoscape",
      "model_module_version": "^0.2.2",
      "model_name": "EdgeModel",
      "state": {
       "_model_module_version": "^0.2.2",
       "_view_module": "jupyter-cytoscape",
       "_view_module_version": "^0.2.2",
       "data": {
        "highlighted": "#f0ba18",
        "id": "fbfc93f1-b19a-460d-ba87-6a4476dce5d7",
        "label": "5",
        "source": "a",
        "target": "d"
       }
      }
     },
     "f4fca577bfb64762aa259d8afd09b52d": {
      "model_module": "jupyter-cytoscape",
      "model_module_version": "^0.2.2",
      "model_name": "NodeModel",
      "state": {
       "_model_module_version": "^0.2.2",
       "_view_module_version": "^0.2.2",
       "data": {
        "id": "b"
       }
      }
     },
     "f52bf34be20f4b059a3a2b50c042a3ac": {
      "model_module": "jupyter-cytoscape",
      "model_module_version": "^0.2.2",
      "model_name": "NodeModel",
      "state": {
       "_model_module_version": "^0.2.2",
       "_view_module_version": "^0.2.2",
       "data": {
        "id": "b"
       }
      }
     },
     "f690dbd2c7394b1eb02e971ee2da3c96": {
      "model_module": "jupyter-cytoscape",
      "model_module_version": "^0.2.2",
      "model_name": "EdgeModel",
      "state": {
       "_model_module_version": "^0.2.2",
       "_view_module": "jupyter-cytoscape",
       "_view_module_version": "^0.2.2",
       "data": {
        "highlighted": "#9dbaea",
        "id": "30cefa98-b38e-4343-8b5e-d558b4910561",
        "label": "4",
        "source": "c",
        "target": "d"
       }
      }
     },
     "f6e53ee19f584627b37f76037cab513f": {
      "model_module": "jupyter-cytoscape",
      "model_module_version": "^0.2.2",
      "model_name": "GraphModel",
      "state": {
       "_model_module_version": "^0.2.2",
       "_view_module": "jupyter-cytoscape",
       "_view_module_version": "^0.2.2",
       "edges": [
        "IPY_MODEL_4f5f5c7ab0e043e0a2467bbfcbf943f6",
        "IPY_MODEL_ea23870e16de458383ed3f6c19c1336e",
        "IPY_MODEL_9def460c3e324a54bdf5acc0ae58cb91",
        "IPY_MODEL_f7f184ae81664df683632abe35f0f8ce",
        "IPY_MODEL_84c70811b75e41e685db9011f1b58551",
        "IPY_MODEL_72f08e6b1ea84b898109677fb18c5fb4",
        "IPY_MODEL_92e5ed1828af472692ea0c7af09da85c",
        "IPY_MODEL_ac4311b704834bb4b853e52003467cba",
        "IPY_MODEL_ec6c788a4ebb423d8ee22f0944351a3a",
        "IPY_MODEL_5c8292728c254da685ce6b1a5d042224",
        "IPY_MODEL_dc7065c7a5cd40e29093daf5d3a214ce",
        "IPY_MODEL_cfb4d837a57441d3b75a01bc0dae12f3",
        "IPY_MODEL_c5697137f7eb4672b17caab55eafd5f1",
        "IPY_MODEL_08ab298b18be4ce3b67d88a82beaf308"
       ],
       "nodes": [
        "IPY_MODEL_fed2bb18f151407689476254783f8db8",
        "IPY_MODEL_a1f6b08ba68f414a95bf0bfc11c61ce7",
        "IPY_MODEL_d8323153623d4796b65f820ec9b5407a",
        "IPY_MODEL_d97175bc51994803b1853da3c381386b",
        "IPY_MODEL_95491c04465a40a8a490ffd91f1b7807",
        "IPY_MODEL_3838c49d96204ff29899f5c488eaa0bf",
        "IPY_MODEL_303039c4c9624f01bad1d36bad441b12",
        "IPY_MODEL_658825ceaca64a52a336f42985b6ef4c",
        "IPY_MODEL_69f908b6866c45cf85fb0b85bcd6ccc1"
       ]
      }
     },
     "f76385ac4dc24fa8a667c0774ec62a36": {
      "model_module": "jupyter-cytoscape",
      "model_module_version": "^0.2.2",
      "model_name": "CytoscapeModel",
      "state": {
       "_model_module_version": "^0.2.2",
       "_view_module_version": "^0.2.2",
       "cytoscape_layout": {
        "edgeLengthVal": 10,
        "name": "dagre",
        "nodeSpacing": 10
       },
       "cytoscape_style": [
        {
         "css": {
          "background-color": "green",
          "color": "white",
          "content": "data(id)",
          "text-outline-color": "green",
          "text-outline-width": 2,
          "text-valign": "center"
         },
         "selector": "node",
         "wheelSensitivity": 0.01
        },
        {
         "css": {
          "background-color": "black",
          "line-color": "black",
          "source-arrow-color": "black",
          "target-arrow-color": "black",
          "text-outline-color": "black"
         },
         "selector": ":selected"
        },
        {
         "selector": "edge",
         "style": {
          "curve-style": "bezier",
          "label": "data(label)",
          "line-color": "#9dbaea",
          "target-arrow-color": "#9dbaea",
          "target-arrow-shape": "triangle"
         }
        }
       ],
       "graph": "IPY_MODEL_dc34bc45e5b344a2a821e5ce72215175",
       "layout": "IPY_MODEL_46903a86cf234154a18b7c27d42edf66",
       "rendered_position": {
        "renderedPosition": {
         "x": 100,
         "y": 100
        }
       },
       "zoom": 2
      }
     },
     "f7f184ae81664df683632abe35f0f8ce": {
      "model_module": "jupyter-cytoscape",
      "model_module_version": "^0.2.2",
      "model_name": "EdgeModel",
      "state": {
       "_model_module_version": "^0.2.2",
       "_view_module": "jupyter-cytoscape",
       "_view_module_version": "^0.2.2",
       "data": {
        "highlighted": "#f0ba18",
        "id": "92120587-e04f-4d40-8849-e7f7a4b13a38",
        "label": "1",
        "source": "b",
        "target": "d"
       }
      }
     },
     "f9aaf21590e64299bcd698f1e8993e7d": {
      "model_module": "jupyter-cytoscape",
      "model_module_version": "^0.2.2",
      "model_name": "GraphModel",
      "state": {
       "_model_module_version": "^0.2.2",
       "_view_module": "jupyter-cytoscape",
       "_view_module_version": "^0.2.2"
      }
     },
     "fb600a3f2300431a9e0d09fd1f4a7311": {
      "model_module": "jupyter-cytoscape",
      "model_module_version": "^0.2.2",
      "model_name": "NodeModel",
      "state": {
       "_model_module_version": "^0.2.2",
       "_view_module_version": "^0.2.2",
       "data": {
        "id": "d"
       }
      }
     },
     "fed2bb18f151407689476254783f8db8": {
      "model_module": "jupyter-cytoscape",
      "model_module_version": "^0.2.2",
      "model_name": "NodeModel",
      "state": {
       "_model_module_version": "^0.2.2",
       "_view_module_version": "^0.2.2",
       "data": {
        "id": "a"
       }
      }
     },
     "ff38eab90a5a41c5b5893534e71c3f8b": {
      "model_module": "jupyter-cytoscape",
      "model_module_version": "^0.2.2",
      "model_name": "NodeModel",
      "state": {
       "_model_module_version": "^0.2.2",
       "_view_module_version": "^0.2.2",
       "data": {
        "id": "a"
       }
      }
     }
    },
    "version_major": 2,
    "version_minor": 0
   }
  }
 },
 "nbformat": 4,
 "nbformat_minor": 4
}
