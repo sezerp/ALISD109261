{
 "cells": [
  {
   "cell_type": "markdown",
   "metadata": {},
   "source": [
    "# Sortowanie przez scalanie"
   ]
  },
  {
   "cell_type": "markdown",
   "metadata": {},
   "source": [
    "1. Opis słowny działania algorytmu.\n",
    "2. Algorytm zapisany w pseudokodzie lub schemacie blokowym.\n",
    "3. Przykład działania algorytmu.\n",
    "4. Oszacowanie złożoności czasowej i pamięciowej."
   ]
  },
  {
   "cell_type": "markdown",
   "metadata": {},
   "source": [
    "## Opis algorytmu\n",
    "\n",
    "dla danych wejjściopwych o długości N:\n",
    "1. Znajdź środek m = $\\lfloor \\frac{N}{2} \\rfloor$ i podziel tablicę na dwie cześci **L** i **R** o długości **l** i **k** tak by $l + k = N$ \n",
    "2. Wywołaj procedurę sortowania przez scalanie dla danych zawartych w tablicy **L** (ponowne wywołanie pkt 1) tak długo aż długośc $R = 1$\n",
    "3. Wywołaj procedurę sortowania przez scalanie dla danych zawartych w tablicy **R** (ponowne wywołanie pkt 1)  tak długo aż długośc $L = 1$\n",
    "4. Scal posortowane tablice **L** i **R** poprzez porównywanie kolejno $1,2,...$ elementów mędzy tablicą **R** i **L** i wstawiane do nowej tablicy o długości $N$"
   ]
  },
  {
   "cell_type": "markdown",
   "metadata": {},
   "source": [
    "## Pseudokod\n",
    "\n",
    "```\n",
    "posortuj(A):\n",
    "    jeśli ilość elementów w A jest równa 1:\n",
    "        zwróć A\n",
    "    ## Oblicz środek\n",
    "    m := A.length / 2\n",
    "    ## Przedziały prawostronnie otwarte indeksowanie w notacji amerykańskiej rozpoczynające się od 0\n",
    "    L := A[0 : m]\n",
    "    R := A[m : n]\n",
    "    L_posortowana := sortuj(L)\n",
    "    R_posortowana := sortuj(R)\n",
    "    \n",
    "    zwróć scal(L_posortowana, R_posortowana)\n",
    "\n",
    "scal(L, R):\n",
    "    ## Stworzenie buforu\n",
    "    B := [] o długości L.length + R.length\n",
    "    l_index := 0\n",
    "    r_index := 0\n",
    "    b_index\n",
    "    ## skopiowanie do utworzonego bufora danych, tak długo jak w L i R są dane\n",
    "    pętla tak długo jak L i R posiadają elementy:\n",
    "        jeśli L[0] < R[0]:\n",
    "            dodaj L[0] na koniec B\n",
    "            usuń element L[0] z L\n",
    "            ## np. L := [1,2] po usunieciu L[0] => [2]\n",
    "        else:\n",
    "            dodaj R[0] na koniec B\n",
    "            usuń element R[0] z R\n",
    "            \n",
    "        ## skopiowanie pozostałych elementów\n",
    "        pętlka tak długo jak L posiada elementy:\n",
    "            dodaj L[0] na koniec B\n",
    "            usuń L[0] z L\n",
    "            \n",
    "        pętlka tak długo jak R posiada elementy:\n",
    "            dodaj R[0] na koniec B\n",
    "            usuń R[0] z R\n",
    "    zwróć B\n",
    "```"
   ]
  },
  {
   "cell_type": "markdown",
   "metadata": {},
   "source": [
    "## Przykład działania algorytmu\n",
    "\n",
    "![Sortowanie przez scalanie](./data/img/merge_sort.png \"Sortowanie przez scalanie\")"
   ]
  },
  {
   "cell_type": "markdown",
   "metadata": {},
   "source": [
    "## Przykładowa implementacja"
   ]
  },
  {
   "cell_type": "code",
   "execution_count": 1,
   "metadata": {},
   "outputs": [],
   "source": [
    "from typing import List\n",
    "## algorytm przy sortoweaniu korzysta ze stosu programu, nie rekomendowana implementacja do użytku poza nauka\n",
    "def sort(A: List) -> List:\n",
    "    if len(A) == 1:\n",
    "        return A\n",
    "    m = len(A) // 2\n",
    "    L = A[:m]\n",
    "    R = A[m:]\n",
    "    L_sorted = sort(L)\n",
    "    R_sorted = sort(R)\n",
    "    \n",
    "    return merge(L_sorted, R_sorted)\n",
    "\n",
    "def merge(L, R) -> List:\n",
    "    B = []\n",
    "    while len(L) > 0 and len(R) > 0:\n",
    "        if L[0] < R[0]:\n",
    "            B.append(L[0])\n",
    "            L.pop(0)\n",
    "        else:\n",
    "            B.append(R[0])\n",
    "            R.pop(0)\n",
    "    \n",
    "    for i in range(len(L)):\n",
    "        B.append(L[0])\n",
    "        L.pop(0)\n",
    "    for i in range(len(R)):\n",
    "        B.append(R[0])\n",
    "        R.pop(0)\n",
    "\n",
    "    return B"
   ]
  },
  {
   "cell_type": "code",
   "execution_count": 2,
   "metadata": {},
   "outputs": [
    {
     "name": "stdout",
     "output_type": "stream",
     "text": [
      "nieposortowana tablica: [14, 15, 12, 11, 17]\n",
      "posortowana tablica: [11, 12, 14, 15, 17]\n"
     ]
    }
   ],
   "source": [
    "unsorted_list = [14, 15, 12, 11, 17] \n",
    "sorted_list = sort(unsorted_list)\n",
    "\n",
    "print(f'nieposortowana tablica: {unsorted_list}')\n",
    "print(f'posortowana tablica: {sorted_list}')"
   ]
  },
  {
   "cell_type": "markdown",
   "metadata": {},
   "source": [
    "## Złożoność algorytmu\n",
    "$$\n",
    "\\begin{align}\n",
    "    T(n) & = 2T(\\frac{n}{2}) + n = \\\\\n",
    "    & = 2T(2T(\\frac{n}{4}) + \\frac{n}{2}) + n \\\\\n",
    "    & = 2T(2T(2T(\\frac{n}{8}) + \\frac{n}{4}) + \\frac{n}{2}) + n \\\\\n",
    "    & = 2T(...2T(\\frac{n}{2 \\cdot 2^{i}}) + \\frac{n}{2^{i}}) \\\\\n",
    "    & = 2T((2T(...2T(1) + 2) ...) + \\frac{n}{2}) + n \\\\\n",
    "\\end{align}\n",
    "$$\n",
    "$$\n",
    "n = 2k \\; k \\in \\mathbb{N}\n",
    "$$\n",
    "Co daje:\n",
    "\n",
    "$$ T(n) = nlog(n)$$\n",
    "Tak więc złożoność obliczeniowa algorytmu sortowania przez scalanie wynosi $O(nlog(n))$\n",
    "Nalży jednak zwrócić uwage że sortowanie przez scalanie ma większy stały czynnik *n* niż np. sortowqanie przez wstawianie czy wybieranie. Jenak jest on istoptny tylko przy mniejszych *n*."
   ]
  },
  {
   "cell_type": "markdown",
   "metadata": {},
   "source": [
    "### Złożonośc pamięciowa\n",
    "\n",
    "Złozonośc pamięciowa jest zależna od użytej struktury danych. Przy najprostrzej wersji algorytmu wynosi ona n. Co oznacza że przy sortopwaniu metoda musi zaalokować pamięć równą rozmiarowi tablicy do posortopwania. Jednak przy użyciu listy jako struktury danych złożonośc pamięciowa spada, a dokładniej nie ma potrzeby alokowania dodatkowej pamięci."
   ]
  },
  {
   "cell_type": "markdown",
   "metadata": {},
   "source": [
    "### Literatura:\n",
    "- Maciej M. Sysło: *Algorytmy. Gliwice* : Helion, 2016 ISBN 978-83-283-0357-7\n",
    "- Thomas H. Cormen: *Algorytmy bez Tajemnic* : Helion 2013 ISBN 978-83-246-7482-4   "
   ]
  },
  {
   "cell_type": "markdown",
   "metadata": {},
   "source": [
    "#### Inne materiałý:\n",
    "\n",
    "- [MIT Opencurseware Math for Computer Science Lecture 14: Divide and Conquer Recurrences notes](https://ocw.mit.edu/courses/electrical-engineering-and-computer-science/6-042j-mathematics-for-computer-science-fall-2010/readings/MIT6_042JF10_chap10.pdf) [s.9]\n",
    "- [MIT Opencurseware Math for Computer Science Lecture 14: Divide and Conquer Recurrences : video](https://ocw.mit.edu/courses/electrical-engineering-and-computer-science/6-042j-mathematics-for-computer-science-fall-2010/video-lectures/lecture-14-divide-and-conquer-recurrences/) [Merg Sort - 20:40]\n",
    "- [MIT Opencurseware Introduction to Algorithm Lecture 3](https://youtu.be/Kg4bqzAqRBM?t=1500)"
   ]
  },
  {
   "cell_type": "code",
   "execution_count": null,
   "metadata": {},
   "outputs": [],
   "source": [
    "\n"
   ]
  }
 ],
 "metadata": {
  "kernelspec": {
   "display_name": "Python 3",
   "language": "python",
   "name": "python3"
  },
  "language_info": {
   "codemirror_mode": {
    "name": "ipython",
    "version": 3
   },
   "file_extension": ".py",
   "mimetype": "text/x-python",
   "name": "python",
   "nbconvert_exporter": "python",
   "pygments_lexer": "ipython3",
   "version": "3.6.9"
  }
 },
 "nbformat": 4,
 "nbformat_minor": 4
}
