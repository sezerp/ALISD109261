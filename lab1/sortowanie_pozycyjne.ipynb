{
 "cells": [
  {
   "cell_type": "markdown",
   "metadata": {},
   "source": [
    "# Sortowanie pozycyjne"
   ]
  },
  {
   "cell_type": "markdown",
   "metadata": {},
   "source": [
    "1. Opis słowny działania algorytmu.\n",
    "2. Algorytm zapisany w pseudokodzie lub schemacie blokowym.\n",
    "3. Przykład działania algorytmu.\n",
    "4. Oszacowanie złożoności czasowej i pamięciowej."
   ]
  },
  {
   "cell_type": "markdown",
   "metadata": {},
   "source": [
    "## Opis działania algorytmu\n",
    "Algorytm służy do sortowania ciągów które na każdej pozycji posiadają stałą liczbę \n",
    "\n",
    "1. Jako dane wejściowe algorytm przyjmuje tablicę **A** o długości *n*, zawierającą elementy składające się z maksymalnie *l* pozycji, gdzie na każdej pozycji od $0, 1, ...l -1$. Natomiast na każdej pozycji może się znajdować *k* kluczy. Np. dla liczb całkowitych 0-1000 $l = 4$ natomiast $k = 10\n",
    "\n",
    "2. Wykonaj sortowanie przez zliczanie dla każdej możliwej pozycji. Inaczej mówiąc wykonaj l sortowań po każdej pozycji od $0 - l-1$ "
   ]
  },
  {
   "cell_type": "markdown",
   "metadata": {},
   "source": [
    "#### sortowanie przez zliczanie:\n",
    "Sortowanie względem *i*-tego klucza \n",
    "1. Danymi wejściowymi jest tablica **A** oraz pozycja względem której będziemy sortować\n",
    "2. Zainicjalizować tablicę **C** o długości *l* która będzie zawierać zliczenia poszczególnych kluczy. dla liczb $l = 10$\n",
    "3. Zlicz elementy z poszczególnymi kluczami w tablicy **A**\n",
    "4. Obliczenie ofsetrów dla poszczegulnych pozycji w tablicy wyjściowej, tzn. dla każdego klucza *k* których jest *l* zliczyliśmy *m* wystąpień więc ofset dla klucza *k* wynosi ofset poprzedniego klucza plus ilość zliczeń klucza *k* \n",
    "5. wstawienie do tablicy wynikowej posortowanych elementów po kluczu na pozycji p. Inaczej mówiąc przypisanie każdego elementu w miejsce zgodne z wyliczonem ofsetem oraz aktualizacja ofsetu dla klucza *k* poprzez jego zmniejszenie o 1\n",
    "6. Zwróż posortowaną tablice względem pozycji *p*\n"
   ]
  },
  {
   "cell_type": "markdown",
   "metadata": {},
   "source": [
    "## Pseudokod\n",
    "\n",
    "```\n",
    "sortujPrzezZliczanie(A, l, p):\n",
    "    B := [] o długości A\n",
    "    ## zliczone klucze na pozycji p, dla liczb naturalnych l = 10 bo na każdej pozycji może znajdować się 0 - 9 cyfr\n",
    "    C := [] wypełniona 0 o długości l\n",
    "    \n",
    "    pętla po wszystkich elementach w A -> e:\n",
    "        ## np. dla liczby 1234 i p = 0 klucz = 4\n",
    "        klucz := z elementu e weź klucz znajdujący się na pozycji p\n",
    "        zwiększ o jeden C[klucz]\n",
    "    \n",
    "    ## wyliczenie ofsetów dla tablicy wynikowej dla poszczegulnych kluczy\n",
    "    pętla od 1 do l -> i:\n",
    "        C[i] := C[i] + C[i-1]\n",
    "       \n",
    "    ## wypełnij tablicę końcową\n",
    "    pętla od długość A do 0 -> i:\n",
    "        klucz := z elementu A[i] weź klucz znajdujący się na pozycji p\n",
    "        ofset := C[klucz] - 1\n",
    "        B[ofset] := A[i]\n",
    "        # aktualizacja ofsetu\n",
    "        C[klucz] := C[klucz] - 1\n",
    "    \n",
    "    zwróc B\n",
    " \n",
    "sortujPozycyjnie(A, l):\n",
    "    wynik = A\n",
    "    pętla od 0 do l -> p:\n",
    "        wynik := sortujPrzezZliczanie(wynik, l, p)\n",
    "    \n",
    "    zwróż wynik\n",
    "        \n",
    "```"
   ]
  },
  {
   "cell_type": "markdown",
   "metadata": {},
   "source": [
    "## Przykład działania algorytmu\n",
    "\n",
    "![Sortowanie pozycyjne](./data/img/sortowania_pozycyjne.svg \"Sortowanie pozycyjne\")"
   ]
  },
  {
   "cell_type": "markdown",
   "metadata": {},
   "source": [
    "### Przykładaowa implementacja"
   ]
  },
  {
   "cell_type": "code",
   "execution_count": 71,
   "metadata": {},
   "outputs": [],
   "source": [
    "def sortowaniePrzezZliczanie(A, exp): \n",
    "    n = len(A) \n",
    "    B = [0] * (n) \n",
    "    C = [0] * (10) \n",
    "    for i in range(0, n): \n",
    "        index = A[i] // exp\n",
    "        C[ index % 10 ] += 1\n",
    "  \n",
    "    for i in range(1,10): \n",
    "        C[i] += C[i-1] \n",
    "  \n",
    "    i = n - 1\n",
    "    while i >= 0: \n",
    "        index = (A[i] // exp)\n",
    "        klucz = (index) % 10\n",
    "        ofset = C[ klucz ] - 1\n",
    "        B[ofset] = A[i] \n",
    "        C[ klucz ] -= 1\n",
    "        i -= 1\n",
    "    \n",
    "    return B\n",
    "\n",
    "\n",
    "def sortowaniePozycyjne(A, l): \n",
    "    exp = 1\n",
    "    wynik = A\n",
    "    for _ in range(l):\n",
    "        wynik = sortowaniePrzezZliczanie(wynik, exp) \n",
    "        exp *= 10\n",
    "    return wynik"
   ]
  },
  {
   "cell_type": "code",
   "execution_count": 72,
   "metadata": {},
   "outputs": [
    {
     "name": "stdout",
     "output_type": "stream",
     "text": [
      "Wejściowa nieposortowana tablica: [170, 45, 75, 90, 802, 24, 2, 66]\n",
      "Wyjściowa posortowana tablica: [2, 24, 45, 66, 75, 90, 170, 802]\n"
     ]
    }
   ],
   "source": [
    "A = [ 170, 45, 75, 90, 802, 24, 2, 66]\n",
    "wynik = sortowaniePozycyjne(A, 3) \n",
    "print(f'Wejściowa nieposortowana tablica: {A}')\n",
    "print(f'Wyjściowa posortowana tablica: {wynik}')"
   ]
  },
  {
   "cell_type": "markdown",
   "metadata": {},
   "source": [
    "## Analiza złożoności\n",
    "\n",
    "Bazując na złożonosci sortowania przez zliczanie którego złożoność wynosi $O(n)$, złożonośc sortowania pozycyjnego wynosi:\n",
    "$$\n",
    "    T(n) = n * l * k\n",
    "$$\n",
    "Co daje złożoność $O(k \\cdot l \\cdot n)$\n",
    "\n",
    "\n",
    "Gdzie:\n",
    "\n",
    "*n -  ilość elementów w tablicy wejściowej*\n",
    "\n",
    "*l - maksymalna długość sekwencji*\n",
    "\n",
    "*k - ilość kluczy na pozycje*"
   ]
  },
  {
   "cell_type": "markdown",
   "metadata": {},
   "source": [
    "### Literatura:\n",
    "- Thomas H. Cormen: *Algorytmy bez Tajemnic*. Gliwice : Helion 2013 ISBN 978-83-246-7482-4  "
   ]
  },
  {
   "cell_type": "markdown",
   "metadata": {},
   "source": [
    "### Inne materiały\n",
    "- [MIT 6.006 Lecture 7](https://www.youtube.com/watch?v=Nz1KZXbghj8&t)"
   ]
  }
 ],
 "metadata": {
  "kernelspec": {
   "display_name": "Python 3",
   "language": "python",
   "name": "python3"
  },
  "language_info": {
   "codemirror_mode": {
    "name": "ipython",
    "version": 3
   },
   "file_extension": ".py",
   "mimetype": "text/x-python",
   "name": "python",
   "nbconvert_exporter": "python",
   "pygments_lexer": "ipython3",
   "version": "3.6.9"
  }
 },
 "nbformat": 4,
 "nbformat_minor": 4
}
