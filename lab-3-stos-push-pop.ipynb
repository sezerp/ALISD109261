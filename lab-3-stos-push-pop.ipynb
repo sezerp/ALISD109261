{
 "cells": [
  {
   "cell_type": "code",
   "execution_count": 2,
   "metadata": {},
   "outputs": [],
   "source": [
    "from typing import List\n",
    "\n",
    "class Node:\n",
    "    def __init__(self, value):\n",
    "        self.next = None\n",
    "        self.value = val\n",
    "        \n",
    "class List:\n",
    "    def __init__():\n",
    "        self.head = None\n",
    "        self.tail None\n",
    "        self.size = 0\n",
    "        \n",
    "    def add(self, node: 'Node'):\n",
    "        if self.head is None:\n",
    "            head = \n",
    "        \n",
    "\n",
    "def push_front(xs: List['Node']):\n",
    "    if xs."
   ]
  }
 ],
 "metadata": {
  "kernelspec": {
   "display_name": "Python 3",
   "language": "python",
   "name": "python3"
  },
  "language_info": {
   "codemirror_mode": {
    "name": "ipython",
    "version": 3
   },
   "file_extension": ".py",
   "mimetype": "text/x-python",
   "name": "python",
   "nbconvert_exporter": "python",
   "pygments_lexer": "ipython3",
   "version": "3.6.9"
  }
 },
 "nbformat": 4,
 "nbformat_minor": 4
}
